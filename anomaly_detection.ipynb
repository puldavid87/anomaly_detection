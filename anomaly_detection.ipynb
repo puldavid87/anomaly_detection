{
  "nbformat": 4,
  "nbformat_minor": 0,
  "metadata": {
    "colab": {
      "name": "anomaly_detection.ipynb",
      "provenance": [],
      "authorship_tag": "ABX9TyPhZ2Yw4GohTqzTTXw6D2cf",
      "include_colab_link": true
    },
    "kernelspec": {
      "name": "python3",
      "display_name": "Python 3"
    },
    "language_info": {
      "name": "python"
    }
  },
  "cells": [
    {
      "cell_type": "markdown",
      "metadata": {
        "id": "view-in-github",
        "colab_type": "text"
      },
      "source": [
        "<a href=\"https://colab.research.google.com/github/puldavid87/anomaly_detection/blob/main/anomaly_detection.ipynb\" target=\"_parent\"><img src=\"https://colab.research.google.com/assets/colab-badge.svg\" alt=\"Open In Colab\"/></a>"
      ]
    },
    {
      "cell_type": "markdown",
      "source": [
        "# 1. Anomaly detection"
      ],
      "metadata": {
        "id": "Z6UOPpx6MR_e"
      }
    },
    {
      "cell_type": "markdown",
      "source": [
        "## 1.1 Read the dataset"
      ],
      "metadata": {
        "id": "YRX5bZE0MVgU"
      }
    },
    {
      "cell_type": "markdown",
      "source": [
        "**Local drive:** To upload the file from the local drive write the following code in the cell and run it"
      ],
      "metadata": {
        "id": "OV2r4i_hO3TQ"
      }
    },
    {
      "cell_type": "code",
      "source": [
        "\n",
        "from google.colab import files\n",
        "uploaded = files.upload()"
      ],
      "metadata": {
        "colab": {
          "resources": {
            "http://localhost:8080/nbextensions/google.colab/files.js": {
              "data": "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",
              "ok": true,
              "headers": [
                [
                  "content-type",
                  "application/javascript"
                ]
              ],
              "status": 200,
              "status_text": ""
            }
          },
          "base_uri": "https://localhost:8080/",
          "height": 73
        },
        "id": "ajkJ1tCpM8_B",
        "outputId": "ce7568e2-bed0-449f-9f43-2e2d51da64e5"
      },
      "execution_count": 1,
      "outputs": [
        {
          "output_type": "display_data",
          "data": {
            "text/plain": [
              "<IPython.core.display.HTML object>"
            ],
            "text/html": [
              "\n",
              "     <input type=\"file\" id=\"files-d379fec0-4e69-4814-a927-bffbc9adfe39\" name=\"files[]\" multiple disabled\n",
              "        style=\"border:none\" />\n",
              "     <output id=\"result-d379fec0-4e69-4814-a927-bffbc9adfe39\">\n",
              "      Upload widget is only available when the cell has been executed in the\n",
              "      current browser session. Please rerun this cell to enable.\n",
              "      </output>\n",
              "      <script src=\"/nbextensions/google.colab/files.js\"></script> "
            ]
          },
          "metadata": {}
        },
        {
          "output_type": "stream",
          "name": "stdout",
          "text": [
            "Saving anomaly_detection.csv to anomaly_detection.csv\n"
          ]
        }
      ]
    },
    {
      "cell_type": "code",
      "source": [
        "\n",
        "import pandas as pd\n",
        "import io\n",
        " \n",
        "df = pd.read_csv(io.BytesIO(uploaded['anomaly_detection.csv']))\n",
        "print(df)"
      ],
      "metadata": {
        "colab": {
          "base_uri": "https://localhost:8080/"
        },
        "id": "oX4WpTodOrvl",
        "outputId": "ca424d0b-0edf-430f-c2bf-29692a40584c"
      },
      "execution_count": 3,
      "outputs": [
        {
          "output_type": "stream",
          "name": "stdout",
          "text": [
            "       CO2   TEMP    HUM  LABEL\n",
            "0      659  25.83  39.80      1\n",
            "1      656  25.79  39.98      1\n",
            "2      655  25.75  39.95      1\n",
            "3      654  25.85  40.07      1\n",
            "4      644  25.52  40.22      1\n",
            "..     ...    ...    ...    ...\n",
            "568  19070  32.52  37.26      4\n",
            "569  40000  32.63  37.22      4\n",
            "570  40000  32.63  37.22      4\n",
            "571   1942  31.79  36.92      4\n",
            "572   1942  31.79  36.92      4\n",
            "\n",
            "[573 rows x 4 columns]\n"
          ]
        }
      ]
    },
    {
      "cell_type": "markdown",
      "source": [
        "**From GitHub:**  It is the easiest way to upload a CSV file in Colab. For this go to the dataset in your GitHub repository, and then click on “View Raw”. Copy the link to the raw dataset and pass it as a parameter to the read_csv() in pandas to get the dataframe. "
      ],
      "metadata": {
        "id": "J7aTfSTcQI0G"
      }
    },
    {
      "cell_type": "code",
      "source": [
        "url = 'https://raw.githubusercontent.com/puldavid87/anomaly_detection/main/anomaly_detection.csv'\n",
        "df = pd.read_csv(url)\n",
        "print(df)"
      ],
      "metadata": {
        "colab": {
          "base_uri": "https://localhost:8080/"
        },
        "id": "I2g1wClmT18h",
        "outputId": "703c08af-3114-4250-c2f2-5d51e0c3fd79"
      },
      "execution_count": null,
      "outputs": [
        {
          "output_type": "stream",
          "name": "stdout",
          "text": [
            "       CO2   TEMP    HUM  LABEL\n",
            "0      659  25.83  39.80      1\n",
            "1      656  25.79  39.98      1\n",
            "2      655  25.75  39.95      1\n",
            "3      654  25.85  40.07      1\n",
            "4      644  25.52  40.22      1\n",
            "..     ...    ...    ...    ...\n",
            "568  19070  32.52  37.26      4\n",
            "569  40000  32.63  37.22      4\n",
            "570  40000  32.63  37.22      4\n",
            "571   1942  31.79  36.92      4\n",
            "572   1942  31.79  36.92      4\n",
            "\n",
            "[573 rows x 4 columns]\n"
          ]
        }
      ]
    },
    {
      "cell_type": "markdown",
      "source": [
        "### 1.1.1 split the dataset into labels"
      ],
      "metadata": {
        "id": "waR9dzTGMa9O"
      }
    },
    {
      "cell_type": "markdown",
      "source": [
        "The dataset is devided into labels to deploy outlier detection techniques"
      ],
      "metadata": {
        "id": "o7qIZyEVWN1D"
      }
    },
    {
      "cell_type": "code",
      "source": [
        "label1=df[ (df['LABEL']==1) ]\n",
        "label2=df[ (df['LABEL']==2) ]\n",
        "label3=df[ (df['LABEL']==3) ]\n",
        "label4=df[ (df['LABEL']==4) ]\n"
      ],
      "metadata": {
        "id": "FzV50azWV0Xv"
      },
      "execution_count": 191,
      "outputs": []
    },
    {
      "cell_type": "markdown",
      "source": [
        "Also, the dataset is devided in training set and test set for next steps"
      ],
      "metadata": {
        "id": "lX0hJtpTWVCD"
      }
    },
    {
      "cell_type": "code",
      "source": [
        "from sklearn.model_selection import train_test_split\n",
        "\n",
        "X= df.iloc[:,:-1].values\n",
        "y=df.iloc[:,-1].values\n",
        "\n",
        "X_train, X_test,y_train,y_test=train_test_split(X,y,test_size=0.2, random_state=0)\n",
        "color=df['LABEL']\n",
        "color=color.replace({1:\"red\",2:\"blue\",3:\"black\",4:\"green\"})\n",
        "\n",
        "import matplotlib.pyplot as plt \n",
        "fig = plt.figure(figsize=(8,6))\n",
        "ax = fig.add_subplot(111, projection='3d')\n",
        "ax.scatter(df['CO2'],df['TEMP'],df['HUM'],c=df['LABEL'].replace({1:\"red\",2:\"blue\",3:\"black\",4:\"green\"}),s=50)\n",
        "ax.legend(loc=\"best\")\n",
        "ax.set_xlabel(\"CO2\")\n",
        "ax.set_ylabel(\"Temperature\")\n",
        "ax.set_zlabel(\"Humidity\")\n",
        "plt.show()"
      ],
      "metadata": {
        "colab": {
          "base_uri": "https://localhost:8080/",
          "height": 375
        },
        "id": "x0f1hP53WAAL",
        "outputId": "b77c336a-7933-4f00-96a5-5abd2c115772"
      },
      "execution_count": 190,
      "outputs": [
        {
          "output_type": "stream",
          "name": "stderr",
          "text": [
            "WARNING:matplotlib.legend:No handles with labels found to put in legend.\n"
          ]
        },
        {
          "output_type": "display_data",
          "data": {
            "text/plain": [
              "<Figure size 576x432 with 1 Axes>"
            ],
            "image/png": "[encoded data removed]"
          },
          "metadata": {
            "needs_background": "light"
          }
        }
      ]
    },
    {
      "cell_type": "markdown",
      "source": [
        "## 1.2 Noise detection"
      ],
      "metadata": {
        "id": "DhwSMHnSMea1"
      }
    },
    {
      "cell_type": "markdown",
      "source": [
        "Errors in the data collection on IoT devices are common due to voltage fluctuations on sensors and unexpected board movements. Therefore, smoothing algorithms reduce the noise. To determine the best algorithm to smooth data, it is necessary to use some statistical metrics related to a different class of errors. In this work, we are going to use signal-to-noise relation, MSE, MAE, RMSE, and R2 score. More information in: https://towardsdatascience.com/comparing-robustness-of-mae-mse-and-rmse-6d69da870828, https://medium.com/analytics-vidhya/mae-mse-rmse-coefficient-of-determination-adjusted-r-squared-which-metric-is-better-cd0326a5697e"
      ],
      "metadata": {
        "id": "38GyDHj9Wd9R"
      }
    },
    {
      "cell_type": "code",
      "source": [
        "# Signal to noise metric\n",
        "import numpy as np\n",
        "\n",
        "def signaltonoise(a, axis=0, ddof=0):\n",
        "    a = np.asanyarray(a)\n",
        "    m = a.mean(axis)\n",
        "    sd = a.std(axis=axis, ddof=ddof)\n",
        "    return np.where(sd == 0, 0, m/sd)"
      ],
      "metadata": {
        "id": "aUqzkv3DXcSw"
      },
      "execution_count": 6,
      "outputs": []
    },
    {
      "cell_type": "code",
      "source": [
        "from sklearn import metrics\n",
        "def timeseries_evaluation_metrics(y_true, y_pred):\n",
        "   print('Evaluation metric results: ')\n",
        "   print(f'MSE value : {metrics.mean_squared_error(y_true, y_pred)}')\n",
        "   print(f'MAE value : {metrics.mean_absolute_error(y_true, y_pred)}')\n",
        "   print(f'RMSE value : {np.sqrt(metrics.mean_squared_error(y_true, y_pred))}')\n",
        "   print(f'SNR : {signaltonoise(y_pred)}')\n",
        "   print(f'R2 score : {metrics.r2_score(y_true, y_pred)}',end='\\n\\n') "
      ],
      "metadata": {
        "id": "pJu3S8F3YJhg"
      },
      "execution_count": 7,
      "outputs": []
    },
    {
      "cell_type": "markdown",
      "source": [
        "Several smoothing algorithms should be applied to analog signals. However, the most representative algorithms are Moving average, median, Gaussian, and Savi-Golay. Each algorithm is developed on each analog signal split by labels. "
      ],
      "metadata": {
        "id": "qsQBDc4kYY3K"
      }
    },
    {
      "cell_type": "code",
      "source": [
        "## CO2 signal smoothing analysis\n",
        "from scipy.ndimage import gaussian_filter\n",
        "from scipy import ndimage, misc, signal\n",
        "import math\n",
        "size = 5\n",
        "x = label1[\"CO2\"]\n",
        "#moving average\n",
        "y_moving = pd.Series(x.rolling(window =5).mean())\n",
        "y_moving[0:size]=pd.Series(x[0:size])  \n",
        "#median\n",
        "y_med = pd.Series(signal.medfilt(x,size))\n",
        "#savi-golay\n",
        "y_vi = pd.Series(signal.savgol_filter(x,5,2))\n",
        "#gaussian\n",
        "y_gaussian = pd.Series(gaussian_filter(x, sigma=2))\n",
        "output = [y_moving,y_med,y_vi,y_gaussian]\n",
        "\n"
      ],
      "metadata": {
        "id": "4QkN48qPZBHE"
      },
      "execution_count": 8,
      "outputs": []
    },
    {
      "cell_type": "code",
      "source": [
        "#Ploting the smoothed CO2 signal by different algorithms\n",
        "plt.plot(x, color=\"blue\")\n",
        "plt.plot(y_moving+20, color=\"green\", label='Average')\n",
        "plt.plot(y_med+40, color=\"tomato\", label='Median')\n",
        "plt.plot(y_vi+60, color=\"black\", label='Savi-Golay')\n",
        "plt.plot(y_gaussian+80, color= 'red', label='Gaussian')\n",
        "plt.grid(True)\n",
        "plt.legend(loc='best')\n",
        "plt.show()\n"
      ],
      "metadata": {
        "colab": {
          "base_uri": "https://localhost:8080/",
          "height": 265
        },
        "id": "aYBFLnHkZtwb",
        "outputId": "b75fa5da-610a-479d-97f1-6fba4bcaae8d"
      },
      "execution_count": 9,
      "outputs": [
        {
          "output_type": "display_data",
          "data": {
            "text/plain": [
              "<Figure size 432x288 with 1 Axes>"
            ],
            "image/png": "[encoded data removed]"
          },
          "metadata": {
            "needs_background": "light"
          }
        }
      ]
    },
    {
      "cell_type": "code",
      "source": [
        "#Evaluation of smoothed algorithms\n",
        "for i in output:\n",
        "    timeseries_evaluation_metrics(x,i)\n",
        "    print(signaltonoise(i))\n"
      ],
      "metadata": {
        "colab": {
          "base_uri": "https://localhost:8080/"
        },
        "id": "Bv1T1bvFatQc",
        "outputId": "3b271db1-3a98-42ee-ac48-d8e3a39cfcc2"
      },
      "execution_count": 10,
      "outputs": [
        {
          "output_type": "stream",
          "name": "stdout",
          "text": [
            "Evaluation metric results: \n",
            "MSE value : 439.966779661017\n",
            "MAE value : 9.394576271186441\n",
            "RMSE value : 20.975385089695422\n",
            "SNR : 8.136239429638426\n",
            "R2 score : 0.9133006210165\n",
            "\n",
            "8.136239429638426\n",
            "Evaluation metric results: \n",
            "MSE value : 31.54915254237288\n",
            "MAE value : 1.664406779661017\n",
            "RMSE value : 5.616863229808331\n",
            "SNR : 7.99772234081448\n",
            "R2 score : 0.9937829580338159\n",
            "\n",
            "7.99772234081448\n",
            "Evaluation metric results: \n",
            "MSE value : 34.51824835696992\n",
            "MAE value : 2.2744794188862283\n",
            "RMSE value : 5.875223260180835\n",
            "SNR : 7.977612211932209\n",
            "R2 score : 0.9931978712155193\n",
            "\n",
            "7.977612211932209\n",
            "Evaluation metric results: \n",
            "MSE value : 154.2135593220339\n",
            "MAE value : 5.074576271186441\n",
            "RMSE value : 12.418275215263748\n",
            "SNR : 8.269225115389322\n",
            "R2 score : 0.9696108423586961\n",
            "\n",
            "8.269225115389322\n"
          ]
        }
      ]
    },
    {
      "cell_type": "markdown",
      "source": [
        "The gaussian filter has better SNR and R2 metrics combined both. Therefore this algorithm is selected to deploy in the rest of the samples. "
      ],
      "metadata": {
        "id": "SKdAJb55Zwt8"
      }
    },
    {
      "cell_type": "code",
      "source": [
        "#empty dataframes \n",
        "nd1 = pd.DataFrame( columns=[\"CO2\",\"TEMP\",\"HUM\",\"LABEL\"])\n",
        "nd2 = pd.DataFrame( columns=[\"CO2\",\"TEMP\",\"HUM\",\"LABEL\"])\n",
        "nd3 = pd.DataFrame( columns=[\"CO2\",\"TEMP\",\"HUM\",\"LABEL\"])\n",
        "nd4 = pd.DataFrame( columns=[\"CO2\",\"TEMP\",\"HUM\",\"LABEL\"])"
      ],
      "metadata": {
        "id": "bCgdLxsx0yq8"
      },
      "execution_count": 11,
      "outputs": []
    },
    {
      "cell_type": "code",
      "source": [
        "#smoothing analog signals with LABEL 1\n",
        "index_list = label1.columns\n",
        "data = label1[[\"CO2\",\"TEMP\",\"HUM\"]]\n",
        "for i in data.columns:\n",
        "  x=data[i]\n",
        "  y_gaussian=pd.Series(gaussian_filter(x, sigma=2)) \n",
        "  nd1[i]=y_gaussian\n",
        "nd1[\"LABEL\"]=label1[\"LABEL\"].values "
      ],
      "metadata": {
        "id": "X77n6nf4hQ8g"
      },
      "execution_count": 12,
      "outputs": []
    },
    {
      "cell_type": "code",
      "source": [
        "#smoothing analog signals with LABEL 2\n",
        "index_list = label2.columns\n",
        "data = label2[[\"CO2\",\"TEMP\",\"HUM\"]]\n",
        "for i in data.columns:\n",
        "  x=data[i]\n",
        "  y_gaussian=pd.Series(gaussian_filter(x, sigma=2)) \n",
        "  nd2[i]=y_gaussian\n",
        "nd2[\"LABEL\"]=label2[\"LABEL\"].values "
      ],
      "metadata": {
        "id": "EF7fJ_oA1qak"
      },
      "execution_count": 13,
      "outputs": []
    },
    {
      "cell_type": "code",
      "source": [
        "#smoothing analog signals with LABEL 3\n",
        "index_list = label3.columns\n",
        "data = label3[[\"CO2\",\"TEMP\",\"HUM\"]]\n",
        "for i in data.columns:\n",
        "  x=data[i]\n",
        "  y_gaussian=pd.Series(gaussian_filter(x, sigma=2)) \n",
        "  nd3[i]=y_gaussian\n",
        "nd3[\"LABEL\"]=label3[\"LABEL\"].values"
      ],
      "metadata": {
        "id": "EfJgdWVG1zBv"
      },
      "execution_count": 14,
      "outputs": []
    },
    {
      "cell_type": "code",
      "source": [
        "#smoothing analog signals with LABEL 4\n",
        "index_list = label4.columns\n",
        "data = label4[[\"CO2\",\"TEMP\",\"HUM\"]]\n",
        "for i in data.columns:\n",
        "  x=data[i]\n",
        "  y_gaussian=pd.Series(gaussian_filter(x, sigma=2)) \n",
        "  nd4[i]=y_gaussian\n",
        "nd4[\"LABEL\"]=label4[\"LABEL\"].values\n"
      ],
      "metadata": {
        "id": "0YDXrmZy13H-"
      },
      "execution_count": 15,
      "outputs": []
    },
    {
      "cell_type": "code",
      "source": [
        "#Creating a smoothed dataset\n",
        "df2=pd.concat([nd1,nd2,nd3,nd4])\n",
        "print(df2)"
      ],
      "metadata": {
        "id": "UO3GT6q11R5Y",
        "colab": {
          "base_uri": "https://localhost:8080/"
        },
        "outputId": "dceed337-844d-4cc7-f167-4b550f06bd57"
      },
      "execution_count": 20,
      "outputs": [
        {
          "output_type": "stream",
          "name": "stdout",
          "text": [
            "      CO2       TEMP        HUM  LABEL\n",
            "0     656  25.786349  39.935088      1\n",
            "1     655  25.763746  39.980219      1\n",
            "2     652  25.714007  40.072484      1\n",
            "3     650  25.633944  40.212785      1\n",
            "4     647  25.530006  40.392756      1\n",
            "..    ...        ...        ...    ...\n",
            "90  19797  32.434967  37.276137      4\n",
            "91  21473  32.380756  37.199532      4\n",
            "92  19861  32.271678  37.123718      4\n",
            "93  16230  32.144796  37.059302      4\n",
            "94  13305  32.058996  37.021205      4\n",
            "\n",
            "[573 rows x 4 columns]\n"
          ]
        }
      ]
    },
    {
      "cell_type": "code",
      "source": [
        "fig = plt.figure(figsize=(8,6))\n",
        "ax = fig.add_subplot(111, projection='3d')\n",
        "ax.scatter(df2['CO2'],df2['TEMP'],df2['HUM'],c=df2['LABEL'].replace({1:\"red\",2:\"blue\",3:\"black\",4:\"green\"}),s=50)\n",
        "ax.legend(loc=\"best\")\n",
        "ax.set_xlabel(\"CO2\")\n",
        "ax.set_ylabel(\"Temperature\")\n",
        "ax.set_zlabel(\"Humidity\")\n",
        "plt.show()"
      ],
      "metadata": {
        "colab": {
          "base_uri": "https://localhost:8080/",
          "height": 375
        },
        "id": "U4ITBaI535vO",
        "outputId": "a97c034c-2229-4a25-dcf2-3f91d49e6def"
      },
      "execution_count": 17,
      "outputs": [
        {
          "output_type": "stream",
          "name": "stderr",
          "text": [
            "WARNING:matplotlib.legend:No handles with labels found to put in legend.\n"
          ]
        },
        {
          "output_type": "display_data",
          "data": {
            "text/plain": [
              "<Figure size 576x432 with 1 Axes>"
            ],
            "image/png": "[encoded data removed]"
          },
          "metadata": {
            "needs_background": "light"
          }
        }
      ]
    },
    {
      "cell_type": "markdown",
      "source": [
        "## 1.3 Outlier detection"
      ],
      "metadata": {
        "id": "OgmncGVoMg9N"
      }
    },
    {
      "cell_type": "markdown",
      "source": [
        "Outliers are those observations that differ strongly from the rest of the data points and smoothing algorithms can not detect them. Outliers algorithms can be deployed by labels or with the entire dataset. \n",
        " More info in: https://towardsdatascience.com/5-outlier-detection-methods-that-every-data-enthusiast-must-know-f917bf439210 "
      ],
      "metadata": {
        "id": "6gIgJPW7auz4"
      }
    },
    {
      "cell_type": "code",
      "source": [
        "#ISOLATION FOREST BY LABELS\n",
        "from sklearn.ensemble import IsolationForest\n",
        "###label 1\n",
        "from sklearn.ensemble import IsolationForest\n",
        "###label 1\n",
        "iso=IsolationForest(contamination=0.3)\n",
        "aux=iso.fit_predict(nd1.iloc[:,:-1])\n",
        "out1=nd1[(aux==1)]\n",
        "aux=iso.fit_predict(nd2.iloc[:,:-1])\n",
        "out2=nd2[(aux==1)]\n",
        "aux=iso.fit_predict(nd3.iloc[:,:-1])\n",
        "out3=nd3[(aux==1)]\n",
        "aux=iso.fit_predict(nd4.iloc[:,:-1])\n",
        "out4=nd4[(aux==1)]\n",
        "isolation_database=pd.concat([out1,out2,out3,out4])\n",
        "print(isolation_database)"
      ],
      "metadata": {
        "colab": {
          "base_uri": "https://localhost:8080/"
        },
        "id": "YqMUumTDyPXy",
        "outputId": "e8ce0a25-b18e-4c8c-d14a-3a275d1e2d0a"
      },
      "execution_count": 180,
      "outputs": [
        {
          "output_type": "stream",
          "name": "stderr",
          "text": [
            "/usr/local/lib/python3.7/dist-packages/sklearn/base.py:451: UserWarning: X does not have valid feature names, but IsolationForest was fitted with feature names\n",
            "  \"X does not have valid feature names, but\"\n",
            "/usr/local/lib/python3.7/dist-packages/sklearn/base.py:451: UserWarning: X does not have valid feature names, but IsolationForest was fitted with feature names\n",
            "  \"X does not have valid feature names, but\"\n",
            "/usr/local/lib/python3.7/dist-packages/sklearn/base.py:451: UserWarning: X does not have valid feature names, but IsolationForest was fitted with feature names\n",
            "  \"X does not have valid feature names, but\"\n"
          ]
        },
        {
          "output_type": "stream",
          "name": "stdout",
          "text": [
            "      CO2       TEMP        HUM  LABEL\n",
            "9     647  25.181537  41.045800      1\n",
            "10    648  25.159775  41.073815      1\n",
            "11    648  25.142223  41.088854      1\n",
            "12    648  25.128759  41.096773      1\n",
            "13    648  25.121000  41.098483      1\n",
            "..    ...        ...        ...    ...\n",
            "90  19797  32.434967  37.276137      4\n",
            "91  21473  32.380756  37.199532      4\n",
            "92  19861  32.271678  37.123718      4\n",
            "93  16230  32.144796  37.059302      4\n",
            "94  13305  32.058996  37.021205      4\n",
            "\n",
            "[400 rows x 4 columns]\n"
          ]
        },
        {
          "output_type": "stream",
          "name": "stderr",
          "text": [
            "/usr/local/lib/python3.7/dist-packages/sklearn/base.py:451: UserWarning: X does not have valid feature names, but IsolationForest was fitted with feature names\n",
            "  \"X does not have valid feature names, but\"\n"
          ]
        }
      ]
    },
    {
      "cell_type": "code",
      "source": [
        "# ISOLATION FOREST WITH THE ENTIRE DATASET\n",
        "iso=IsolationForest(contamination=0.3)\n",
        "aux=iso.fit_predict(df2.iloc[:,:-1])\n",
        "isolation_database=df2[(aux==1)]\n",
        "print(isolation_database)"
      ],
      "metadata": {
        "colab": {
          "base_uri": "https://localhost:8080/"
        },
        "id": "B29yPeaYEMQo",
        "outputId": "20f72504-3a7e-4fa4-ff65-ab8e7e436b52"
      },
      "execution_count": 181,
      "outputs": [
        {
          "output_type": "stream",
          "name": "stdout",
          "text": [
            "    CO2       TEMP        HUM  LABEL\n",
            "0   656  25.786349  39.935088      1\n",
            "1   655  25.763746  39.980219      1\n",
            "2   652  25.714007  40.072484      1\n",
            "3   650  25.633944  40.212785      1\n",
            "4   647  25.530006  40.392756      1\n",
            "..  ...        ...        ...    ...\n",
            "23  613  26.206175  49.318860      4\n",
            "24  552  26.486389  49.107516      4\n",
            "25  514  26.769926  48.790329      4\n",
            "26  489  27.059049  48.369042      4\n",
            "27  459  27.360906  47.866537      4\n",
            "\n",
            "[401 rows x 4 columns]\n"
          ]
        },
        {
          "output_type": "stream",
          "name": "stderr",
          "text": [
            "/usr/local/lib/python3.7/dist-packages/sklearn/base.py:451: UserWarning: X does not have valid feature names, but IsolationForest was fitted with feature names\n",
            "  \"X does not have valid feature names, but\"\n"
          ]
        }
      ]
    },
    {
      "cell_type": "code",
      "source": [
        "#ISOLATION FOREST BY LABELS\n",
        "from sklearn.covariance import EllipticEnvelope\n",
        "ee = EllipticEnvelope(contamination=0.3)\n",
        "aux = ee.fit_predict(nd1.iloc[:,:-1])\n",
        "out1 = nd1[(aux==1)]\n",
        "aux = ee.fit_predict(nd2.iloc[:,:-1])\n",
        "out2 = nd2[(aux==1)]\n",
        "aux = ee.fit_predict(nd3.iloc[:,:-1])\n",
        "out3 = nd3[(aux==1)]\n",
        "aux = ee.fit_predict(nd4.iloc[:,:-1])\n",
        "out4 = nd4[(aux==1)]\n",
        "elliptic_database=pd.concat([out1,out2,out3,out4])\n",
        "print(elliptic_database)"
      ],
      "metadata": {
        "id": "gM8UPYLY5U2s",
        "colab": {
          "base_uri": "https://localhost:8080/"
        },
        "outputId": "696c2ac3-20b5-4e22-a172-1909e5bf0de4"
      },
      "execution_count": 183,
      "outputs": [
        {
          "output_type": "stream",
          "name": "stdout",
          "text": [
            "      CO2       TEMP        HUM  LABEL\n",
            "0     656  25.786349  39.935088      1\n",
            "1     655  25.763746  39.980219      1\n",
            "2     652  25.714007  40.072484      1\n",
            "3     650  25.633944  40.212785      1\n",
            "4     647  25.530006  40.392756      1\n",
            "..    ...        ...        ...    ...\n",
            "90  19797  32.434967  37.276137      4\n",
            "91  21473  32.380756  37.199532      4\n",
            "92  19861  32.271678  37.123718      4\n",
            "93  16230  32.144796  37.059302      4\n",
            "94  13305  32.058996  37.021205      4\n",
            "\n",
            "[400 rows x 4 columns]\n"
          ]
        }
      ]
    },
    {
      "cell_type": "code",
      "source": [
        "#ISOLATION FOREST WITH THE ENTIRE DATASET\n",
        "ee = EllipticEnvelope(contamination=0.3)\n",
        "aux=ee.fit_predict(df2.iloc[:,:-1])\n",
        "elliptic_database=df2[(aux==1)]\n",
        "print(elliptic_database)"
      ],
      "metadata": {
        "colab": {
          "base_uri": "https://localhost:8080/"
        },
        "id": "dE9a25KnEqyz",
        "outputId": "0c62f852-314f-40c8-fcb8-0c40b52cffe1"
      },
      "execution_count": 184,
      "outputs": [
        {
          "output_type": "stream",
          "name": "stdout",
          "text": [
            "     CO2       TEMP        HUM  LABEL\n",
            "0    656  25.786349  39.935088      1\n",
            "1    655  25.763746  39.980219      1\n",
            "2    652  25.714007  40.072484      1\n",
            "3    650  25.633944  40.212785      1\n",
            "4    647  25.530006  40.392756      1\n",
            "..   ...        ...        ...    ...\n",
            "32  1453  28.908369  45.108507      4\n",
            "52  1129  32.129444  37.650713      4\n",
            "82  1199  31.900124  36.919344      4\n",
            "83  1053  31.979764  37.018438      4\n",
            "84  1318  32.074994  37.136356      4\n",
            "\n",
            "[401 rows x 4 columns]\n"
          ]
        }
      ]
    },
    {
      "cell_type": "code",
      "source": [
        "#ONE CLASS SVM\n",
        "from sklearn.svm import OneClassSVM\n",
        "osvm = OneClassSVM(kernel='poly', nu=0.3)\n",
        "aux=osvm.fit_predict(df2.iloc[:,:-1])\n",
        "one_svm_database=df2[(aux==1)]\n",
        "print(one_svm_database)"
      ],
      "metadata": {
        "colab": {
          "base_uri": "https://localhost:8080/"
        },
        "id": "amnPIZIB5lnX",
        "outputId": "e731ce7f-1f17-4f2c-e12b-8dd8d1f1f110"
      },
      "execution_count": 185,
      "outputs": [
        {
          "output_type": "stream",
          "name": "stdout",
          "text": [
            "      CO2       TEMP        HUM  LABEL\n",
            "0     656  25.786349  39.935088      1\n",
            "1     655  25.763746  39.980219      1\n",
            "2     652  25.714007  40.072484      1\n",
            "3     650  25.633944  40.212785      1\n",
            "4     647  25.530006  40.392756      1\n",
            "..    ...        ...        ...    ...\n",
            "90  19797  32.434967  37.276137      4\n",
            "91  21473  32.380756  37.199532      4\n",
            "92  19861  32.271678  37.123718      4\n",
            "93  16230  32.144796  37.059302      4\n",
            "94  13305  32.058996  37.021205      4\n",
            "\n",
            "[352 rows x 4 columns]\n"
          ]
        }
      ]
    },
    {
      "cell_type": "code",
      "source": [
        "# OUTLIER FACTOR\n",
        "from sklearn.neighbors import LocalOutlierFactor\n",
        "\n",
        "local = LocalOutlierFactor(contamination=0.3)\n",
        "aux = local.fit_predict(df2.iloc[:,:-1])\n",
        "local_database=df2[(aux==1)]\n",
        "print(local_database)"
      ],
      "metadata": {
        "colab": {
          "base_uri": "https://localhost:8080/"
        },
        "id": "jEXcB6R36qPo",
        "outputId": "3674b878-0498-4459-c570-cb7ff1433101"
      },
      "execution_count": 186,
      "outputs": [
        {
          "output_type": "stream",
          "name": "stdout",
          "text": [
            "      CO2       TEMP        HUM  LABEL\n",
            "0     656  25.786349  39.935088      1\n",
            "1     655  25.763746  39.980219      1\n",
            "2     652  25.714007  40.072484      1\n",
            "3     650  25.633944  40.212785      1\n",
            "4     647  25.530006  40.392756      1\n",
            "..    ...        ...        ...    ...\n",
            "66  13042  32.036563  37.380818      4\n",
            "78  12088  32.060081  36.684492      4\n",
            "79   6946  31.946480  36.734405      4\n",
            "82   1199  31.900124  36.919344      4\n",
            "85   2094  32.169154  37.255227      4\n",
            "\n",
            "[401 rows x 4 columns]\n"
          ]
        }
      ]
    },
    {
      "cell_type": "code",
      "source": [
        "#EXAMPLE WITH ORGINAL SAMPLES (RED), SMOOTHED SAMPLES (BLUE), AND CLEANED SAMPLES (GREEN)\n",
        "plt.scatter(nd1[\"CO2\"], np.arange(len(nd1[\"CO2\"])), color='r')\n",
        "plt.scatter(out1[\"CO2\"], np.arange(len(out1[\"CO2\"])), color='g')\n",
        "plt.scatter(label1[\"CO2\"], np.arange(len(label1[\"CO2\"])), color='b')\n",
        "plt.show()"
      ],
      "metadata": {
        "colab": {
          "base_uri": "https://localhost:8080/",
          "height": 265
        },
        "id": "xHMrSVag7A_E",
        "outputId": "f454b7df-db03-4be2-9757-01333f3586b5"
      },
      "execution_count": 187,
      "outputs": [
        {
          "output_type": "display_data",
          "data": {
            "text/plain": [
              "<Figure size 432x288 with 1 Axes>"
            ],
            "image/png": "[encoded data removed]"
          },
          "metadata": {
            "needs_background": "light"
          }
        }
      ]
    },
    {
      "cell_type": "markdown",
      "source": [
        "## 1.4 Tamper detection"
      ],
      "metadata": {
        "id": "WSCMYyoBMjY0"
      }
    },
    {
      "cell_type": "markdown",
      "source": [
        "Tamper detection is the ability of a device to sense that an active attempt to compromise the device integrity or the data associated with the device is in progress; the detection of the threat may enable the device to initiate appropriate defensive actions. More information in: https://link.springer.com/referenceworkentry/10.1007%2F978-1-4419-5906-5_229\n",
        "\n",
        "It is important to remember that the proposed system has four labels, and two of them are tamper options. Therefore, with the refined dataset obtained from the previous section, the multi-class classification would be improved. Thus, the classification algorithms and deep learning techniques are trained with the original samples. Then, they are trained with the refined dataset to demonstrate the outlier detection phase. More information in classification metrics in: https://medium.com/analytics-vidhya/what-is-a-confusion-matrix-d1c0f8feda5"
      ],
      "metadata": {
        "id": "9ndJsyi2dGiU"
      }
    },
    {
      "cell_type": "markdown",
      "source": [
        "### 1.4.1 Orginal samples"
      ],
      "metadata": {
        "id": "3fLRbf8EYAtX"
      }
    },
    {
      "cell_type": "markdown",
      "source": [
        "#### Classification algorithms"
      ],
      "metadata": {
        "id": "rsQ9M3o4IyRm"
      }
    },
    {
      "cell_type": "code",
      "source": [
        "from sklearn.svm import SVC\n",
        "from sklearn.metrics import confusion_matrix\n",
        "from sklearn.metrics import classification_report\n",
        "\n",
        "\n",
        "classifier=SVC(kernel='sigmoid', random_state=0)\n",
        "classifier.fit(X_train,y_train)\n",
        "y_pred=classifier.predict(X_test)\n",
        "print(classification_report(y_test, y_pred))\n",
        "print(confusion_matrix(y_test,y_pred))"
      ],
      "metadata": {
        "id": "kDMCuulfDsm7",
        "colab": {
          "base_uri": "https://localhost:8080/"
        },
        "outputId": "0f504bbc-a2a9-47f3-a2a7-da0e5b1eccac"
      },
      "execution_count": 144,
      "outputs": [
        {
          "output_type": "stream",
          "name": "stdout",
          "text": [
            "              precision    recall  f1-score   support\n",
            "\n",
            "           1       0.72      1.00      0.83        53\n",
            "           2       0.50      1.00      0.67         8\n",
            "           3       0.41      0.22      0.29        32\n",
            "           4       0.25      0.09      0.13        22\n",
            "\n",
            "    accuracy                           0.61       115\n",
            "   macro avg       0.47      0.58      0.48       115\n",
            "weighted avg       0.53      0.61      0.54       115\n",
            "\n",
            "[[53  0  0  0]\n",
            " [ 0  8  0  0]\n",
            " [16  3  7  6]\n",
            " [ 5  5 10  2]]\n"
          ]
        }
      ]
    },
    {
      "cell_type": "code",
      "source": [
        "from sklearn import tree\n",
        "clf = tree.DecisionTreeClassifier()\n",
        "clf = clf.fit(X_train, y_train)\n",
        "y_pred=clf.predict(X_test)\n",
        "print(classification_report(y_test, y_pred))\n",
        "print(confusion_matrix(y_test,y_pred))"
      ],
      "metadata": {
        "colab": {
          "base_uri": "https://localhost:8080/"
        },
        "id": "UcmSVqwcHqtZ",
        "outputId": "33525df9-7a93-435b-a4d8-c991e8eea3be"
      },
      "execution_count": 145,
      "outputs": [
        {
          "output_type": "stream",
          "name": "stdout",
          "text": [
            "              precision    recall  f1-score   support\n",
            "\n",
            "           1       1.00      0.96      0.98        53\n",
            "           2       0.73      1.00      0.84         8\n",
            "           3       1.00      0.97      0.98        32\n",
            "           4       1.00      1.00      1.00        22\n",
            "\n",
            "    accuracy                           0.97       115\n",
            "   macro avg       0.93      0.98      0.95       115\n",
            "weighted avg       0.98      0.97      0.98       115\n",
            "\n",
            "[[51  2  0  0]\n",
            " [ 0  8  0  0]\n",
            " [ 0  1 31  0]\n",
            " [ 0  0  0 22]]\n"
          ]
        }
      ]
    },
    {
      "cell_type": "code",
      "source": [
        "from sklearn.neighbors import KNeighborsClassifier\n",
        " \n",
        "knn = KNeighborsClassifier(1)\n",
        "knn.fit(X_train, y_train)\n",
        "y_pred=knn.predict(X_test)\n",
        "print(classification_report(y_test, y_pred))\n",
        "print(confusion_matrix(y_test,y_pred))"
      ],
      "metadata": {
        "colab": {
          "base_uri": "https://localhost:8080/"
        },
        "id": "3mf8GHeGIxCp",
        "outputId": "5a8175a8-be04-4d5c-887e-f86d77eab946"
      },
      "execution_count": 146,
      "outputs": [
        {
          "output_type": "stream",
          "name": "stdout",
          "text": [
            "              precision    recall  f1-score   support\n",
            "\n",
            "           1       0.96      0.98      0.97        53\n",
            "           2       0.88      0.88      0.88         8\n",
            "           3       0.81      0.91      0.85        32\n",
            "           4       0.94      0.73      0.82        22\n",
            "\n",
            "    accuracy                           0.90       115\n",
            "   macro avg       0.90      0.87      0.88       115\n",
            "weighted avg       0.91      0.90      0.90       115\n",
            "\n",
            "[[52  0  1  0]\n",
            " [ 0  7  0  1]\n",
            " [ 2  1 29  0]\n",
            " [ 0  0  6 16]]\n"
          ]
        }
      ]
    },
    {
      "cell_type": "code",
      "source": [
        "from sklearn.naive_bayes import MultinomialNB\n",
        "\n",
        "model = MultinomialNB()\n",
        "model.fit(X_train, y_train)\n",
        "y_pred=model.predict(X_test)\n",
        "print(classification_report(y_test, y_pred))\n",
        "print(confusion_matrix(y_test,y_pred))\n"
      ],
      "metadata": {
        "colab": {
          "base_uri": "https://localhost:8080/"
        },
        "id": "8ad2YI3XJhV2",
        "outputId": "f9c5c36c-baae-41c4-9dc1-0a0074f7cb92"
      },
      "execution_count": 147,
      "outputs": [
        {
          "output_type": "stream",
          "name": "stdout",
          "text": [
            "              precision    recall  f1-score   support\n",
            "\n",
            "           1       0.83      1.00      0.91        53\n",
            "           2       0.88      0.88      0.88         8\n",
            "           3       0.69      0.75      0.72        32\n",
            "           4       1.00      0.36      0.53        22\n",
            "\n",
            "    accuracy                           0.80       115\n",
            "   macro avg       0.85      0.75      0.76       115\n",
            "weighted avg       0.82      0.80      0.78       115\n",
            "\n",
            "[[53  0  0  0]\n",
            " [ 0  7  1  0]\n",
            " [ 8  0 24  0]\n",
            " [ 3  1 10  8]]\n"
          ]
        }
      ]
    },
    {
      "cell_type": "markdown",
      "source": [
        "#### deep learning"
      ],
      "metadata": {
        "id": "LtHagUCeJydH"
      }
    },
    {
      "cell_type": "code",
      "source": [
        "from keras.models import Sequential\n",
        "from keras.layers import Dense\n",
        "from sklearn.preprocessing import OneHotEncoder\n",
        "from sklearn.preprocessing import MinMaxScaler\n",
        "import tensorflow as tf\n",
        "\n",
        "encoder = OneHotEncoder(sparse=False)\n",
        "y_nn=pd.DataFrame(y)\n",
        "y_nn = encoder.fit_transform(y_nn)\n",
        "sc=MinMaxScaler()\n",
        "X_nn=sc.fit_transform(X)\n",
        "X_train_nn, X_test_nn,y_train_nn,y_test_nn=train_test_split(X_nn,y_nn,test_size=0.2, random_state=0)\n",
        "print(y_nn)\n",
        "\n",
        "\n",
        "\n",
        "\n",
        "\n",
        "\n"
      ],
      "metadata": {
        "colab": {
          "base_uri": "https://localhost:8080/"
        },
        "id": "5akzQF2sJ0PR",
        "outputId": "45834211-2704-4277-952a-e9ee3446730d"
      },
      "execution_count": 159,
      "outputs": [
        {
          "output_type": "stream",
          "name": "stdout",
          "text": [
            "[[1. 0. 0. 0.]\n",
            " [1. 0. 0. 0.]\n",
            " [1. 0. 0. 0.]\n",
            " ...\n",
            " [0. 0. 0. 1.]\n",
            " [0. 0. 0. 1.]\n",
            " [0. 0. 0. 1.]]\n"
          ]
        }
      ]
    },
    {
      "cell_type": "code",
      "source": [
        "model = Sequential()\n",
        "\n",
        "model.add(Dense(6, input_shape=(3,), activation='relu', name='fc1'))\n",
        "model.add(Dense(24, activation='relu', name='fc2'))\n",
        "model.add(Dense(8, activation='relu', name='fc3'))\n",
        "model.add(Dense(4, activation='softmax', name='output'))\n",
        "\n",
        "model.compile(loss='categorical_crossentropy',optimizer='adam', metrics=['accuracy'])\n",
        "\n",
        "\n",
        "history=model.fit(X_train_nn, y_train_nn, validation_split=0.33, batch_size=5, epochs=20)"
      ],
      "metadata": {
        "colab": {
          "base_uri": "https://localhost:8080/"
        },
        "id": "h4ZREYd0NwE-",
        "outputId": "0d4ea311-631a-4c5d-aac3-cf259201beaf"
      },
      "execution_count": 171,
      "outputs": [
        {
          "output_type": "stream",
          "name": "stdout",
          "text": [
            "Epoch 1/20\n",
            "38/38 [==============================] - 1s 7ms/step - loss: 1.4285 - accuracy: 0.2074 - val_loss: 1.3595 - val_accuracy: 0.3226\n",
            "Epoch 2/20\n",
            "38/38 [==============================] - 0s 4ms/step - loss: 1.3416 - accuracy: 0.3723 - val_loss: 1.3164 - val_accuracy: 0.5914\n",
            "Epoch 3/20\n",
            "38/38 [==============================] - 0s 3ms/step - loss: 1.3052 - accuracy: 0.5798 - val_loss: 1.2797 - val_accuracy: 0.6344\n",
            "Epoch 4/20\n",
            "38/38 [==============================] - 0s 3ms/step - loss: 1.2630 - accuracy: 0.6543 - val_loss: 1.2366 - val_accuracy: 0.7312\n",
            "Epoch 5/20\n",
            "38/38 [==============================] - 0s 4ms/step - loss: 1.2109 - accuracy: 0.7340 - val_loss: 1.1833 - val_accuracy: 0.7312\n",
            "Epoch 6/20\n",
            "38/38 [==============================] - 0s 4ms/step - loss: 1.1465 - accuracy: 0.7340 - val_loss: 1.1191 - val_accuracy: 0.7312\n",
            "Epoch 7/20\n",
            "38/38 [==============================] - 0s 3ms/step - loss: 1.0644 - accuracy: 0.7394 - val_loss: 1.0377 - val_accuracy: 0.7204\n",
            "Epoch 8/20\n",
            "38/38 [==============================] - 0s 4ms/step - loss: 0.9561 - accuracy: 0.8085 - val_loss: 0.9258 - val_accuracy: 0.7419\n",
            "Epoch 9/20\n",
            "38/38 [==============================] - 0s 4ms/step - loss: 0.8305 - accuracy: 0.8617 - val_loss: 0.8132 - val_accuracy: 0.7527\n",
            "Epoch 10/20\n",
            "38/38 [==============================] - 0s 3ms/step - loss: 0.7097 - accuracy: 0.8191 - val_loss: 0.7048 - val_accuracy: 0.8602\n",
            "Epoch 11/20\n",
            "38/38 [==============================] - 0s 4ms/step - loss: 0.5806 - accuracy: 0.8936 - val_loss: 0.5885 - val_accuracy: 0.9140\n",
            "Epoch 12/20\n",
            "38/38 [==============================] - 0s 4ms/step - loss: 0.4907 - accuracy: 0.9521 - val_loss: 0.5237 - val_accuracy: 0.8710\n",
            "Epoch 13/20\n",
            "38/38 [==============================] - 0s 3ms/step - loss: 0.4108 - accuracy: 0.9574 - val_loss: 0.4405 - val_accuracy: 0.9247\n",
            "Epoch 14/20\n",
            "38/38 [==============================] - 0s 4ms/step - loss: 0.3480 - accuracy: 0.9628 - val_loss: 0.3965 - val_accuracy: 0.9247\n",
            "Epoch 15/20\n",
            "38/38 [==============================] - 0s 3ms/step - loss: 0.2969 - accuracy: 0.9734 - val_loss: 0.3629 - val_accuracy: 0.9247\n",
            "Epoch 16/20\n",
            "38/38 [==============================] - 0s 3ms/step - loss: 0.2609 - accuracy: 0.9734 - val_loss: 0.3105 - val_accuracy: 0.9462\n",
            "Epoch 17/20\n",
            "38/38 [==============================] - 0s 4ms/step - loss: 0.2319 - accuracy: 0.9787 - val_loss: 0.2811 - val_accuracy: 0.9462\n",
            "Epoch 18/20\n",
            "38/38 [==============================] - 0s 3ms/step - loss: 0.2048 - accuracy: 0.9787 - val_loss: 0.2572 - val_accuracy: 0.9462\n",
            "Epoch 19/20\n",
            "38/38 [==============================] - 0s 4ms/step - loss: 0.1837 - accuracy: 0.9787 - val_loss: 0.2463 - val_accuracy: 0.9355\n",
            "Epoch 20/20\n",
            "38/38 [==============================] - 0s 4ms/step - loss: 0.1689 - accuracy: 0.9787 - val_loss: 0.2187 - val_accuracy: 0.9462\n"
          ]
        }
      ]
    },
    {
      "cell_type": "code",
      "source": [
        "plt.plot(history.history['accuracy'])\n",
        "plt.plot(history.history['val_accuracy'])\n",
        "plt.ylabel('ACCURACY',fontname=\"Times New Roman\")\n",
        "plt.xlabel('EPOCH',fontname=\"Times New Roman\")\n",
        "plt.legend(['Train', 'Validation'], loc='upper left')\n",
        "plt.show()\n",
        "# \"Loss\"\n",
        "plt.plot(history.history['loss'])\n",
        "plt.plot(history.history['val_loss'])\n",
        "plt.ylabel('LOSS',fontname=\"Times New Roman\")\n",
        "plt.xlabel('EPOCH',fontname=\"Times New Roman\")\n",
        "plt.legend(['train', 'validation'], loc='upper left')\n",
        "plt.show()"
      ],
      "metadata": {
        "colab": {
          "base_uri": "https://localhost:8080/",
          "height": 541
        },
        "id": "hrNNTD7XNum0",
        "outputId": "a699962e-f1f3-463c-9412-a6320df7ceb8"
      },
      "execution_count": 172,
      "outputs": [
        {
          "output_type": "display_data",
          "data": {
            "text/plain": [
              "<Figure size 432x288 with 1 Axes>"
            ],
            "image/png": "[encoded data removed]"
          },
          "metadata": {
            "needs_background": "light"
          }
        },
        {
          "output_type": "display_data",
          "data": {
            "text/plain": [
              "<Figure size 432x288 with 1 Axes>"
            ],
            "image/png": "[encoded data removed]"
          },
          "metadata": {
            "needs_background": "light"
          }
        }
      ]
    },
    {
      "cell_type": "code",
      "source": [
        "\n",
        "y_pred = model.predict(X_test_nn)\n",
        "y_pred = (y_pred > 0.5)\n",
        "index=np.argmax(y_pred)\n",
        "index\n",
        "from sklearn import metrics\n",
        "print(\"\")\n",
        "print(\"Precision: {}%\".format(100*metrics.precision_score(np.array(y_test_nn).argmax(axis=1),y_pred.argmax(axis=1), average=\"weighted\")))\n",
        "print(\"Recall: {}%\".format(100*metrics.recall_score(np.array(y_test_nn).argmax(axis=1),y_pred.argmax(axis=1), average=\"weighted\")))\n",
        "print(\"f1_score: {}%\".format(100*metrics.f1_score(np.array(y_test_nn).argmax(axis=1),y_pred.argmax(axis=1), average=\"weighted\")))\n",
        "print(\"Error_absoluto: {}%\".format(metrics.mean_absolute_error(np.array(y_test_nn).argmax(axis=1),y_pred.argmax(axis=1))))\n",
        "from sklearn.metrics import confusion_matrix, accuracy_score,classification_report\n",
        "report=classification_report(np.array(y_test_nn).argmax(axis=1),y_pred.argmax(axis=1))\n",
        "print('\\nReporte\\n')\n",
        "print(report)"
      ],
      "metadata": {
        "colab": {
          "base_uri": "https://localhost:8080/"
        },
        "id": "8XM3FTB1RBmF",
        "outputId": "e94af0d0-ed62-4a4c-c529-93853a2b50f7"
      },
      "execution_count": 173,
      "outputs": [
        {
          "output_type": "stream",
          "name": "stdout",
          "text": [
            "\n",
            "Precision: 98.63422962014512%\n",
            "Recall: 98.59154929577466%\n",
            "f1_score: 98.57176503839088%\n",
            "Error_absoluto: 0.014084507042253521%\n",
            "\n",
            "Reporte\n",
            "\n",
            "              precision    recall  f1-score   support\n",
            "\n",
            "           0       1.00      1.00      1.00        19\n",
            "           1       1.00      0.92      0.96        12\n",
            "           2       0.97      1.00      0.98        32\n",
            "           3       1.00      1.00      1.00         8\n",
            "\n",
            "    accuracy                           0.99        71\n",
            "   macro avg       0.99      0.98      0.99        71\n",
            "weighted avg       0.99      0.99      0.99        71\n",
            "\n"
          ]
        }
      ]
    },
    {
      "cell_type": "markdown",
      "source": [
        "### 1.4.2 Improved samples"
      ],
      "metadata": {
        "id": "a-Yr6B7pYg-C"
      }
    },
    {
      "cell_type": "markdown",
      "source": [
        "Classification algorithms and deep learning models are trained with the refined dataset obtained by one class SVM since this algorithm pruned more samples. "
      ],
      "metadata": {
        "id": "B71DN8_pfElB"
      }
    },
    {
      "cell_type": "markdown",
      "source": [
        "#### Classic algorithms"
      ],
      "metadata": {
        "id": "Rg1O1zEZYz3a"
      }
    },
    {
      "cell_type": "code",
      "source": [
        "X= one_svm_database.iloc[:,:-1].values\n",
        "y=one_svm_database.iloc[:,-1].values\n",
        "\n",
        "X_train, X_test,y_train,y_test=train_test_split(X,y,test_size=0.2, random_state=0)"
      ],
      "metadata": {
        "id": "xnhvgjD0Zfyf"
      },
      "execution_count": 175,
      "outputs": []
    },
    {
      "cell_type": "code",
      "source": [
        "from sklearn.svm import SVC\n",
        "from sklearn.metrics import confusion_matrix\n",
        "from sklearn.metrics import classification_report\n",
        "\n",
        "\n",
        "classifier=SVC(kernel='linear', random_state=0)\n",
        "classifier.fit(X_train,y_train)\n",
        "y_pred=classifier.predict(X_test)\n",
        "print(classification_report(y_test, y_pred))\n",
        "print(confusion_matrix(y_test,y_pred))"
      ],
      "metadata": {
        "id": "b7qQd_ZPYzRy"
      },
      "execution_count": null,
      "outputs": []
    },
    {
      "cell_type": "code",
      "source": [
        "from sklearn import tree\n",
        "clf = tree.DecisionTreeClassifier()\n",
        "clf = clf.fit(X_train, y_train)\n",
        "y_pred=clf.predict(X_test)\n",
        "print(classification_report(y_test, y_pred))\n",
        "print(confusion_matrix(y_test,y_pred))"
      ],
      "metadata": {
        "id": "o4wfoOxMZ76O"
      },
      "execution_count": null,
      "outputs": []
    },
    {
      "cell_type": "code",
      "source": [
        "from sklearn.naive_bayes import MultinomialNB\n",
        "\n",
        "model = MultinomialNB()\n",
        "model.fit(X_train, y_train)\n",
        "y_pred=model.predict(X_test)\n",
        "print(classification_report(y_test, y_pred))\n",
        "print(confusion_matrix(y_test,y_pred))"
      ],
      "metadata": {
        "id": "WuYjF1j2Z_8e"
      },
      "execution_count": null,
      "outputs": []
    },
    {
      "cell_type": "markdown",
      "source": [
        "#### Deep learning"
      ],
      "metadata": {
        "id": "V4Wg994WaDEO"
      }
    },
    {
      "cell_type": "code",
      "source": [
        "from keras.models import Sequential\n",
        "from keras.layers import Dense\n",
        "from sklearn.preprocessing import OneHotEncoder\n",
        "from sklearn.preprocessing import MinMaxScaler\n",
        "import tensorflow as tf\n",
        "\n",
        "encoder = OneHotEncoder(sparse=False)\n",
        "y_nn=pd.DataFrame(y)\n",
        "y_nn = encoder.fit_transform(y_nn)\n",
        "sc=MinMaxScaler()\n",
        "X_nn=sc.fit_transform(X)\n",
        "X_train_nn, X_test_nn,y_train_nn,y_test_nn=train_test_split(X_nn,y_nn,test_size=0.2, random_state=0)\n",
        "print(y_nn)\n"
      ],
      "metadata": {
        "colab": {
          "base_uri": "https://localhost:8080/"
        },
        "id": "6JOpxdeoaHUK",
        "outputId": "338f5743-8e40-492a-db18-9d9a2af2b269"
      },
      "execution_count": 176,
      "outputs": [
        {
          "output_type": "stream",
          "name": "stdout",
          "text": [
            "[[1. 0. 0. 0.]\n",
            " [1. 0. 0. 0.]\n",
            " [1. 0. 0. 0.]\n",
            " ...\n",
            " [0. 0. 0. 1.]\n",
            " [0. 0. 0. 1.]\n",
            " [0. 0. 0. 1.]]\n"
          ]
        }
      ]
    },
    {
      "cell_type": "code",
      "source": [
        "model = Sequential()\n",
        "\n",
        "model.add(Dense(4, input_shape=(3,), activation='relu', name='fc1'))\n",
        "model.add(Dense(24, activation='relu', name='fc2'))\n",
        "model.add(Dense(8, activation='relu', name='fc3'))\n",
        "model.add(Dense(4, activation='softmax', name='output'))\n",
        "\n",
        "model.compile(loss='categorical_crossentropy',optimizer='adam', metrics=['accuracy'])\n",
        "\n",
        "\n",
        "history=model.fit(X_train_nn, y_train_nn, validation_split=0.33, batch_size=5, epochs=20)"
      ],
      "metadata": {
        "colab": {
          "base_uri": "https://localhost:8080/"
        },
        "id": "QhaPbYRcaMzg",
        "outputId": "854a12db-00ed-48ea-92b8-78cbf696ab5b"
      },
      "execution_count": 177,
      "outputs": [
        {
          "output_type": "stream",
          "name": "stdout",
          "text": [
            "Epoch 1/20\n",
            "38/38 [==============================] - 1s 8ms/step - loss: 1.4051 - accuracy: 0.1011 - val_loss: 1.3812 - val_accuracy: 0.2366\n",
            "Epoch 2/20\n",
            "38/38 [==============================] - 0s 5ms/step - loss: 1.3580 - accuracy: 0.2287 - val_loss: 1.3431 - val_accuracy: 0.4409\n",
            "Epoch 3/20\n",
            "38/38 [==============================] - 0s 4ms/step - loss: 1.3098 - accuracy: 0.6489 - val_loss: 1.2849 - val_accuracy: 0.6237\n",
            "Epoch 4/20\n",
            "38/38 [==============================] - 0s 4ms/step - loss: 1.2313 - accuracy: 0.6489 - val_loss: 1.2280 - val_accuracy: 0.6559\n",
            "Epoch 5/20\n",
            "38/38 [==============================] - 0s 3ms/step - loss: 1.1692 - accuracy: 0.6543 - val_loss: 1.1804 - val_accuracy: 0.6237\n",
            "Epoch 6/20\n",
            "38/38 [==============================] - 0s 3ms/step - loss: 1.1198 - accuracy: 0.6543 - val_loss: 1.1438 - val_accuracy: 0.6237\n",
            "Epoch 7/20\n",
            "38/38 [==============================] - 0s 4ms/step - loss: 1.0831 - accuracy: 0.6543 - val_loss: 1.1160 - val_accuracy: 0.6237\n",
            "Epoch 8/20\n",
            "38/38 [==============================] - 0s 4ms/step - loss: 1.0557 - accuracy: 0.6489 - val_loss: 1.0923 - val_accuracy: 0.6237\n",
            "Epoch 9/20\n",
            "38/38 [==============================] - 0s 3ms/step - loss: 1.0298 - accuracy: 0.6489 - val_loss: 1.0715 - val_accuracy: 0.6237\n",
            "Epoch 10/20\n",
            "38/38 [==============================] - 0s 4ms/step - loss: 1.0055 - accuracy: 0.6489 - val_loss: 1.0518 - val_accuracy: 0.6237\n",
            "Epoch 11/20\n",
            "38/38 [==============================] - 0s 4ms/step - loss: 0.9826 - accuracy: 0.6489 - val_loss: 1.0366 - val_accuracy: 0.6237\n",
            "Epoch 12/20\n",
            "38/38 [==============================] - 0s 4ms/step - loss: 0.9623 - accuracy: 0.6596 - val_loss: 1.0186 - val_accuracy: 0.6237\n",
            "Epoch 13/20\n",
            "38/38 [==============================] - 0s 5ms/step - loss: 0.9428 - accuracy: 0.6649 - val_loss: 1.0010 - val_accuracy: 0.6237\n",
            "Epoch 14/20\n",
            "38/38 [==============================] - 0s 4ms/step - loss: 0.9228 - accuracy: 0.6915 - val_loss: 0.9828 - val_accuracy: 0.7097\n",
            "Epoch 15/20\n",
            "38/38 [==============================] - 0s 4ms/step - loss: 0.9010 - accuracy: 0.7660 - val_loss: 0.9592 - val_accuracy: 0.7849\n",
            "Epoch 16/20\n",
            "38/38 [==============================] - 0s 3ms/step - loss: 0.8801 - accuracy: 0.8298 - val_loss: 0.9444 - val_accuracy: 0.7849\n",
            "Epoch 17/20\n",
            "38/38 [==============================] - 0s 4ms/step - loss: 0.8588 - accuracy: 0.8457 - val_loss: 0.9259 - val_accuracy: 0.8065\n",
            "Epoch 18/20\n",
            "38/38 [==============================] - 0s 4ms/step - loss: 0.8406 - accuracy: 0.8670 - val_loss: 0.9078 - val_accuracy: 0.8065\n",
            "Epoch 19/20\n",
            "38/38 [==============================] - 0s 4ms/step - loss: 0.8231 - accuracy: 0.8723 - val_loss: 0.8888 - val_accuracy: 0.8172\n",
            "Epoch 20/20\n",
            "38/38 [==============================] - 0s 4ms/step - loss: 0.7994 - accuracy: 0.8883 - val_loss: 0.8741 - val_accuracy: 0.8172\n"
          ]
        }
      ]
    },
    {
      "cell_type": "code",
      "source": [
        "plt.plot(history.history['accuracy'])\n",
        "plt.plot(history.history['val_accuracy'])\n",
        "plt.ylabel('ACCURACY',fontname=\"Times New Roman\")\n",
        "plt.xlabel('EPOCH',fontname=\"Times New Roman\")\n",
        "plt.legend(['Train', 'Validation'], loc='upper left')\n",
        "plt.show()\n",
        "# \"Loss\"\n",
        "plt.plot(history.history['loss'])\n",
        "plt.plot(history.history['val_loss'])\n",
        "plt.ylabel('LOSS',fontname=\"Times New Roman\")\n",
        "plt.xlabel('EPOCH',fontname=\"Times New Roman\")\n",
        "plt.legend(['train', 'validation'], loc='upper left')\n",
        "plt.show()"
      ],
      "metadata": {
        "colab": {
          "base_uri": "https://localhost:8080/",
          "height": 541
        },
        "id": "KRCK_53iaOvK",
        "outputId": "10a15b62-fab0-4895-e8ee-a90b88856d8e"
      },
      "execution_count": 178,
      "outputs": [
        {
          "output_type": "display_data",
          "data": {
            "text/plain": [
              "<Figure size 432x288 with 1 Axes>"
            ],
            "image/png": "[encoded data removed]"
          },
          "metadata": {
            "needs_background": "light"
          }
        },
        {
          "output_type": "display_data",
          "data": {
            "text/plain": [
              "<Figure size 432x288 with 1 Axes>"
            ],
            "image/png": "[encoded data removed]"
          },
          "metadata": {
            "needs_background": "light"
          }
        }
      ]
    },
    {
      "cell_type": "code",
      "source": [
        "#Reporte de evaluación del modelo\n",
        "#Predecir los resultados del conjunto de prueba\n",
        "y_pred = model.predict(X_test_nn)\n",
        "y_pred = (y_pred > 0.5)\n",
        "#print(y_pred)\n",
        "index=np.argmax(y_pred)\n",
        "index\n",
        "from sklearn import metrics\n",
        "print(\"\")\n",
        "print(\"Precision: {}%\".format(100*metrics.precision_score(np.array(y_test_nn).argmax(axis=1),y_pred.argmax(axis=1), average=\"weighted\")))\n",
        "print(\"Recall: {}%\".format(100*metrics.recall_score(np.array(y_test_nn).argmax(axis=1),y_pred.argmax(axis=1), average=\"weighted\")))\n",
        "print(\"f1_score: {}%\".format(100*metrics.f1_score(np.array(y_test_nn).argmax(axis=1),y_pred.argmax(axis=1), average=\"weighted\")))\n",
        "print(\"Error_absoluto: {}%\".format(metrics.mean_absolute_error(np.array(y_test_nn).argmax(axis=1),y_pred.argmax(axis=1))))\n",
        "from sklearn.metrics import confusion_matrix, accuracy_score,classification_report\n",
        "report=classification_report(np.array(y_test_nn).argmax(axis=1),y_pred.argmax(axis=1))\n",
        "print('\\nReporte\\n')\n",
        "print(report)"
      ],
      "metadata": {
        "colab": {
          "base_uri": "https://localhost:8080/"
        },
        "id": "4yXzk2RDaQg7",
        "outputId": "4848e626-9518-483d-fbdf-0d98acf55dc4"
      },
      "execution_count": 179,
      "outputs": [
        {
          "output_type": "stream",
          "name": "stdout",
          "text": [
            "\n",
            "Precision: 19.33825173261793%\n",
            "Recall: 38.028169014084504%\n",
            "f1_score: 23.668842322226038%\n",
            "Error_absoluto: 1.0704225352112675%\n",
            "\n",
            "Reporte\n",
            "\n",
            "              precision    recall  f1-score   support\n",
            "\n",
            "           0       0.30      1.00      0.46        19\n",
            "           1       0.00      0.00      0.00        12\n",
            "           2       0.00      0.00      0.00        32\n",
            "           3       1.00      1.00      1.00         8\n",
            "\n",
            "    accuracy                           0.38        71\n",
            "   macro avg       0.33      0.50      0.37        71\n",
            "weighted avg       0.19      0.38      0.24        71\n",
            "\n"
          ]
        },
        {
          "output_type": "stream",
          "name": "stderr",
          "text": [
            "/usr/local/lib/python3.7/dist-packages/sklearn/metrics/_classification.py:1318: UndefinedMetricWarning: Precision is ill-defined and being set to 0.0 in labels with no predicted samples. Use `zero_division` parameter to control this behavior.\n",
            "  _warn_prf(average, modifier, msg_start, len(result))\n",
            "/usr/local/lib/python3.7/dist-packages/sklearn/metrics/_classification.py:1318: UndefinedMetricWarning: Precision and F-score are ill-defined and being set to 0.0 in labels with no predicted samples. Use `zero_division` parameter to control this behavior.\n",
            "  _warn_prf(average, modifier, msg_start, len(result))\n",
            "/usr/local/lib/python3.7/dist-packages/sklearn/metrics/_classification.py:1318: UndefinedMetricWarning: Precision and F-score are ill-defined and being set to 0.0 in labels with no predicted samples. Use `zero_division` parameter to control this behavior.\n",
            "  _warn_prf(average, modifier, msg_start, len(result))\n",
            "/usr/local/lib/python3.7/dist-packages/sklearn/metrics/_classification.py:1318: UndefinedMetricWarning: Precision and F-score are ill-defined and being set to 0.0 in labels with no predicted samples. Use `zero_division` parameter to control this behavior.\n",
            "  _warn_prf(average, modifier, msg_start, len(result))\n"
          ]
        }
      ]
    },
    {
      "cell_type": "markdown",
      "source": [
        "## 1.5 Exporting models"
      ],
      "metadata": {
        "id": "SW2CuApDMm0y"
      }
    },
    {
      "cell_type": "markdown",
      "source": [
        "The decision tree has the better classification metrics, one-class SVM prunes outliers adequately, and the neural network has similar results using original and improved samples."
      ],
      "metadata": {
        "id": "nO49HryHgk2p"
      }
    },
    {
      "cell_type": "markdown",
      "source": [
        "### Outlier detection\n"
      ],
      "metadata": {
        "id": "NTb83LDOMquD"
      }
    },
    {
      "cell_type": "code",
      "source": [
        "#pip install m2cgen\n"
      ],
      "metadata": {
        "id": "4qyaso-vCFCR"
      },
      "execution_count": 188,
      "outputs": []
    },
    {
      "cell_type": "code",
      "execution_count": 143,
      "metadata": {
        "id": "r0oyolbnMPfl",
        "colab": {
          "base_uri": "https://localhost:8080/"
        },
        "outputId": "2f0c1bb4-b9b3-4cd5-eee8-8038962113b6"
      },
      "outputs": [
        {
          "output_type": "stream",
          "name": "stdout",
          "text": [
            "import math\n",
            "def score(input):\n",
            "    var0 = -0.6656266842393999 + math.tanh(0.000000014257154212318266 * (571.0 * input[0] + 22.86 * input[1] + 43.45 * input[2]) + 0.0) * 1.0 + math.tanh(0.000000014257154212318266 * (445.0 * input[0] + 22.16 * input[1] + 44.95 * input[2]) + 0.0) * 1.0 + math.tanh(0.000000014257154212318266 * (445.0 * input[0] + 21.57 * input[1] + 45.98 * input[2]) + 0.0) * 1.0 + math.tanh(0.000000014257154212318266 * (453.0 * input[0] + 20.83 * input[1] + 47.2 * input[2]) + 0.0) * 1.0 + math.tanh(0.000000014257154212318266 * (436.0 * input[0] + 20.22 * input[1] + 48.93 * input[2]) + 0.0) * 1.0 + math.tanh(0.000000014257154212318266 * (439.0 * input[0] + 20.06 * input[1] + 49.39 * input[2]) + 0.0) * 1.0 + math.tanh(0.000000014257154212318266 * (437.0 * input[0] + 19.81 * input[1] + 50.31 * input[2]) + 0.0) * 1.0\n",
            "    var1 = math.tanh(0.000000014257154212318266 * (435.0 * input[0] + 19.81 * input[1] + 50.4 * input[2]) + 0.0) * 1.0\n",
            "    var2 = var0 + var1 + math.tanh(0.000000014257154212318266 * (430.0 * input[0] + 19.71 * input[1] + 50.75 * input[2]) + 0.0) * 1.0 + math.tanh(0.000000014257154212318266 * (432.0 * input[0] + 19.79 * input[1] + 50.66 * input[2]) + 0.0) * 1.0 + math.tanh(0.000000014257154212318266 * (435.0 * input[0] + 19.44 * input[1] + 50.98 * input[2]) + 0.0) * 1.0 + math.tanh(0.000000014257154212318266 * (428.0 * input[0] + 19.43 * input[1] + 51.01 * input[2]) + 0.0) * 1.0 + math.tanh(0.000000014257154212318266 * (419.0 * input[0] + 19.12 * input[1] + 51.68 * input[2]) + 0.0) * 1.0 + math.tanh(0.000000014257154212318266 * (413.0 * input[0] + 19.02 * input[1] + 51.97 * input[2]) + 0.0) * 1.0 + math.tanh(0.000000014257154212318266 * (417.0 * input[0] + 19.09 * input[1] + 52.0 * input[2]) + 0.0) * 1.0 + math.tanh(0.000000014257154212318266 * (414.0 * input[0] + 18.94 * input[1] + 52.14 * input[2]) + 0.0) * 1.0 + math.tanh(0.000000014257154212318266 * (417.0 * input[0] + 18.88 * input[1] + 52.09 * input[2]) + 0.0) * 1.0 + math.tanh(0.000000014257154212318266 * (416.0 * input[0] + 18.66 * input[1] + 52.59 * input[2]) + 0.0) * 1.0 + math.tanh(0.000000014257154212318266 * (412.0 * input[0] + 18.57 * input[1] + 52.75 * input[2]) + 0.0) * 1.0 + math.tanh(0.000000014257154212318266 * (408.0 * input[0] + 18.5 * input[1] + 53.29 * input[2]) + 0.0) * 1.0 + math.tanh(0.000000014257154212318266 * (414.0 * input[0] + 18.82 * input[1] + 52.94 * input[2]) + 0.0) * 1.0 + math.tanh(0.000000014257154212318266 * (420.0 * input[0] + 19.67 * input[1] + 51.19 * input[2]) + 0.0) * 1.0 + math.tanh(0.000000014257154212318266 * (433.0 * input[0] + 20.34 * input[1] + 49.69 * input[2]) + 0.0) * 1.0 + math.tanh(0.000000014257154212318266 * (442.0 * input[0] + 20.83 * input[1] + 48.34 * input[2]) + 0.0) * 1.0 + math.tanh(0.000000014257154212318266 * (447.0 * input[0] + 21.2 * input[1] + 47.57 * input[2]) + 0.0) * 1.0 + math.tanh(0.000000014257154212318266 * (451.0 * input[0] + 21.45 * input[1] + 47.01 * input[2]) + 0.0) * 1.0 + math.tanh(0.000000014257154212318266 * (457.0 * input[0] + 21.76 * input[1] + 46.3 * input[2]) + 0.0) * 1.0 + math.tanh(0.000000014257154212318266 * (460.0 * input[0] + 22.03 * input[1] + 45.84 * input[2]) + 0.0) * 1.0 + math.tanh(0.000000014257154212318266 * (460.0 * input[0] + 22.33 * input[1] + 45.17 * input[2]) + 0.0) * 1.0 + math.tanh(0.000000014257154212318266 * (461.0 * input[0] + 22.57 * input[1] + 44.87 * input[2]) + 0.0) * 1.0 + math.tanh(0.000000014257154212318266 * (464.0 * input[0] + 22.72 * input[1] + 44.55 * input[2]) + 0.0) * 1.0 + math.tanh(0.000000014257154212318266 * (474.0 * input[0] + 22.92 * input[1] + 44.2 * input[2]) + 0.0) * 1.0 + math.tanh(0.000000014257154212318266 * (482.0 * input[0] + 23.16 * input[1] + 43.79 * input[2]) + 0.0) * 1.0 + math.tanh(0.000000014257154212318266 * (492.0 * input[0] + 23.27 * input[1] + 43.61 * input[2]) + 0.0) * 1.0 + math.tanh(0.000000014257154212318266 * (497.0 * input[0] + 23.41 * input[1] + 43.32 * input[2]) + 0.0) * 1.0 + math.tanh(0.000000014257154212318266 * (495.0 * input[0] + 23.55 * input[1] + 42.91 * input[2]) + 0.0) * 1.0 + math.tanh(0.000000014257154212318266 * (496.0 * input[0] + 23.64 * input[1] + 42.8 * input[2]) + 0.0) * 1.0 + math.tanh(0.000000014257154212318266 * (498.0 * input[0] + 23.75 * input[1] + 42.56 * input[2]) + 0.0) * 1.0 + math.tanh(0.000000014257154212318266 * (504.0 * input[0] + 23.81 * input[1] + 42.48 * input[2]) + 0.0) * 1.0 + math.tanh(0.000000014257154212318266 * (505.0 * input[0] + 23.92 * input[1] + 42.22 * input[2]) + 0.0) * 1.0 + math.tanh(0.000000014257154212318266 * (507.0 * input[0] + 23.96 * input[1] + 42.13 * input[2]) + 0.0) * 1.0 + math.tanh(0.000000014257154212318266 * (507.0 * input[0] + 24.04 * input[1] + 42.02 * input[2]) + 0.0) * 1.0 + math.tanh(0.000000014257154212318266 * (509.0 * input[0] + 24.1 * input[1] + 41.9 * input[2]) + 0.0) * 1.0 + math.tanh(0.000000014257154212318266 * (512.0 * input[0] + 24.12 * input[1] + 41.85 * input[2]) + 0.0) * 1.0 + math.tanh(0.000000014257154212318266 * (512.0 * input[0] + 24.2 * input[1] + 41.72 * input[2]) + 0.0) * 1.0 + math.tanh(0.000000014257154212318266 * (514.0 * input[0] + 24.23 * input[1] + 41.7 * input[2]) + 0.0) * 1.0 + math.tanh(0.000000014257154212318266 * (517.0 * input[0] + 24.31 * input[1] + 41.53 * input[2]) + 0.0) * 1.0 + math.tanh(0.000000014257154212318266 * (519.0 * input[0] + 24.33 * input[1] + 41.58 * input[2]) + 0.0) * 1.0 + math.tanh(0.000000014257154212318266 * (522.0 * input[0] + 24.36 * input[1] + 41.5 * input[2]) + 0.0) * 1.0 + math.tanh(0.000000014257154212318266 * (522.0 * input[0] + 24.38 * input[1] + 41.52 * input[2]) + 0.0) * 1.0 + math.tanh(0.000000014257154212318266 * (526.0 * input[0] + 24.43 * input[1] + 41.38 * input[2]) + 0.0) * 1.0 + math.tanh(0.000000014257154212318266 * (531.0 * input[0] + 24.4 * input[1] + 41.5 * input[2]) + 0.0) * 1.0 + math.tanh(0.000000014257154212318266 * (536.0 * input[0] + 24.41 * input[1] + 41.5 * input[2]) + 0.0) * 1.0 + math.tanh(0.000000014257154212318266 * (540.0 * input[0] + 24.4 * input[1] + 41.58 * input[2]) + 0.0) * 1.0 + math.tanh(0.000000014257154212318266 * (545.0 * input[0] + 24.44 * input[1] + 41.48 * input[2]) + 0.0) * 1.0 + math.tanh(0.000000014257154212318266 * (546.0 * input[0] + 24.5 * input[1] + 41.33 * input[2]) + 0.0) * 1.0 + math.tanh(0.000000014257154212318266 * (548.0 * input[0] + 24.51 * input[1] + 41.38 * input[2]) + 0.0) * 1.0 + math.tanh(0.000000014257154212318266 * (551.0 * input[0] + 24.51 * input[1] + 41.45 * input[2]) + 0.0) * 1.0 + math.tanh(0.000000014257154212318266 * (556.0 * input[0] + 24.59 * input[1] + 41.33 * input[2]) + 0.0) * 1.0 + math.tanh(0.000000014257154212318266 * (560.0 * input[0] + 24.64 * input[1] + 41.27 * input[2]) + 0.0) * 1.0 + math.tanh(0.000000014257154212318266 * (563.0 * input[0] + 24.68 * input[1] + 41.22 * input[2]) + 0.0) * 1.0 + math.tanh(0.000000014257154212318266 * (565.0 * input[0] + 24.69 * input[1] + 41.12 * input[2]) + 0.0) * 1.0\n",
            "    var3 = math.tanh(0.000000014257154212318266 * (568.0 * input[0] + 24.69 * input[1] + 41.19 * input[2]) + 0.0) * 1.0\n",
            "    var4 = var2 + var3 + math.tanh(0.000000014257154212318266 * (573.0 * input[0] + 24.66 * input[1] + 41.19 * input[2]) + 0.0) * 1.0 + math.tanh(0.000000014257154212318266 * (574.0 * input[0] + 24.69 * input[1] + 41.19 * input[2]) + 0.0) * 1.0 + math.tanh(0.000000014257154212318266 * (568.0 * input[0] + 22.69 * input[1] + 49.66 * input[2]) + 0.0) * 1.0 + math.tanh(0.000000014257154212318266 * (565.0 * input[0] + 22.71 * input[1] + 49.69 * input[2]) + 0.0) * 1.0 + math.tanh(0.000000014257154212318266 * (561.0 * input[0] + 22.75 * input[1] + 49.62 * input[2]) + 0.0) * 1.0 + math.tanh(0.000000014257154212318266 * (568.0 * input[0] + 22.76 * input[1] + 49.62 * input[2]) + 0.0) * 1.0 + math.tanh(0.000000014257154212318266 * (572.0 * input[0] + 22.9 * input[1] + 49.55 * input[2]) + 0.0) * 1.0 + math.tanh(0.000000014257154212318266 * (573.0 * input[0] + 22.76 * input[1] + 49.48 * input[2]) + 0.0) * 0.9000000000008015 + math.tanh(0.000000014257154212318266 * (569.0 * input[0] + 22.79 * input[1] + 49.94 * input[2]) + 0.0) * 1.0 + math.tanh(0.000000014257154212318266 * (566.0 * input[0] + 22.86 * input[1] + 49.42 * input[2]) + 0.0) * 1.0 + math.tanh(0.000000014257154212318266 * (566.0 * input[0] + 22.69 * input[1] + 49.57 * input[2]) + 0.0) * 1.0 + math.tanh(0.000000014257154212318266 * (545.0 * input[0] + 22.74 * input[1] + 49.83 * input[2]) + 0.0) * 1.0 + math.tanh(0.000000014257154212318266 * (544.0 * input[0] + 22.62 * input[1] + 49.77 * input[2]) + 0.0) * 1.0 + math.tanh(0.000000014257154212318266 * (548.0 * input[0] + 22.61 * input[1] + 50.05 * input[2]) + 0.0) * 1.0 + math.tanh(0.000000014257154212318266 * (553.0 * input[0] + 22.58 * input[1] + 49.9 * input[2]) + 0.0) * 1.0 + math.tanh(0.000000014257154212318266 * (556.0 * input[0] + 22.64 * input[1] + 50.12 * input[2]) + 0.0) * 1.0 + math.tanh(0.000000014257154212318266 * (555.0 * input[0] + 22.57 * input[1] + 50.05 * input[2]) + 0.0) * 1.0 + math.tanh(0.000000014257154212318266 * (556.0 * input[0] + 22.38 * input[1] + 50.41 * input[2]) + 0.0) * 1.0 + math.tanh(0.000000014257154212318266 * (553.0 * input[0] + 22.34 * input[1] + 50.53 * input[2]) + 0.0) * 1.0 + math.tanh(0.000000014257154212318266 * (549.0 * input[0] + 22.3 * input[1] + 50.58 * input[2]) + 0.0) * 1.0 + math.tanh(0.000000014257154212318266 * (547.0 * input[0] + 22.38 * input[1] + 50.58 * input[2]) + 0.0) * 1.0 + math.tanh(0.000000014257154212318266 * (568.0 * input[0] + 22.69 * input[1] + 49.66 * input[2]) + 0.0) * 1.0 + math.tanh(0.000000014257154212318266 * (565.0 * input[0] + 22.71 * input[1] + 49.69 * input[2]) + 0.0) * 1.0 + math.tanh(0.000000014257154212318266 * (561.0 * input[0] + 22.75 * input[1] + 49.62 * input[2]) + 0.0) * 1.0 + math.tanh(0.000000014257154212318266 * (568.0 * input[0] + 22.76 * input[1] + 49.62 * input[2]) + 0.0) * 1.0 + math.tanh(0.000000014257154212318266 * (572.0 * input[0] + 22.9 * input[1] + 49.55 * input[2]) + 0.0) * 1.0 + math.tanh(0.000000014257154212318266 * (573.0 * input[0] + 22.76 * input[1] + 49.48 * input[2]) + 0.0) * 1.0 + math.tanh(0.000000014257154212318266 * (569.0 * input[0] + 22.79 * input[1] + 49.94 * input[2]) + 0.0) * 1.0 + math.tanh(0.000000014257154212318266 * (566.0 * input[0] + 22.86 * input[1] + 49.42 * input[2]) + 0.0) * 1.0 + math.tanh(0.000000014257154212318266 * (566.0 * input[0] + 22.69 * input[1] + 49.57 * input[2]) + 0.0) * 1.0 + math.tanh(0.000000014257154212318266 * (545.0 * input[0] + 22.74 * input[1] + 49.83 * input[2]) + 0.0) * 1.0 + math.tanh(0.000000014257154212318266 * (544.0 * input[0] + 22.62 * input[1] + 49.77 * input[2]) + 0.0) * 1.0 + math.tanh(0.000000014257154212318266 * (548.0 * input[0] + 22.61 * input[1] + 50.05 * input[2]) + 0.0) * 1.0 + math.tanh(0.000000014257154212318266 * (553.0 * input[0] + 22.58 * input[1] + 49.9 * input[2]) + 0.0) * 1.0 + math.tanh(0.000000014257154212318266 * (556.0 * input[0] + 22.64 * input[1] + 50.12 * input[2]) + 0.0) * 1.0 + math.tanh(0.000000014257154212318266 * (555.0 * input[0] + 22.57 * input[1] + 50.05 * input[2]) + 0.0) * 1.0 + math.tanh(0.000000014257154212318266 * (556.0 * input[0] + 22.38 * input[1] + 50.41 * input[2]) + 0.0) * 1.0 + math.tanh(0.000000014257154212318266 * (553.0 * input[0] + 22.34 * input[1] + 50.53 * input[2]) + 0.0) * 1.0 + math.tanh(0.000000014257154212318266 * (549.0 * input[0] + 22.3 * input[1] + 50.58 * input[2]) + 0.0) * 1.0 + math.tanh(0.000000014257154212318266 * (547.0 * input[0] + 22.38 * input[1] + 50.58 * input[2]) + 0.0) * 1.0 + math.tanh(0.000000014257154212318266 * (543.0 * input[0] + 23.52 * input[1] + 52.93 * input[2]) + 0.0) * 1.0 + math.tanh(0.000000014257154212318266 * (511.0 * input[0] + 23.1 * input[1] + 53.8 * input[2]) + 0.0) * 1.0 + math.tanh(0.000000014257154212318266 * (531.0 * input[0] + 22.64 * input[1] + 55.06 * input[2]) + 0.0) * 1.0 + math.tanh(0.000000014257154212318266 * (538.0 * input[0] + 22.03 * input[1] + 57.05 * input[2]) + 0.0) * 1.0 + math.tanh(0.000000014257154212318266 * (478.0 * input[0] + 22.07 * input[1] + 57.24 * input[2]) + 0.0) * 1.0 + math.tanh(0.000000014257154212318266 * (506.0 * input[0] + 21.58 * input[1] + 58.65 * input[2]) + 0.0) * 1.0 + math.tanh(0.000000014257154212318266 * (470.0 * input[0] + 21.38 * input[1] + 59.59 * input[2]) + 0.0) * 1.0 + math.tanh(0.000000014257154212318266 * (474.0 * input[0] + 21.31 * input[1] + 59.35 * input[2]) + 0.0) * 1.0 + math.tanh(0.000000014257154212318266 * (478.0 * input[0] + 21.03 * input[1] + 60.46 * input[2]) + 0.0) * 1.0 + math.tanh(0.000000014257154212318266 * (465.0 * input[0] + 20.65 * input[1] + 61.71 * input[2]) + 0.0) * 1.0 + math.tanh(0.000000014257154212318266 * (460.0 * input[0] + 20.59 * input[1] + 62.14 * input[2]) + 0.0) * 1.0 + math.tanh(0.000000014257154212318266 * (451.0 * input[0] + 20.47 * input[1] + 62.39 * input[2]) + 0.0) * 1.0 + math.tanh(0.000000014257154212318266 * (448.0 * input[0] + 20.4 * input[1] + 62.57 * input[2]) + 0.0) * 1.0 + math.tanh(0.000000014257154212318266 * (447.0 * input[0] + 20.5 * input[1] + 62.39 * input[2]) + 0.0) * 1.0\n",
            "    var5 = math.tanh(0.000000014257154212318266 * (441.0 * input[0] + 20.39 * input[1] + 62.48 * input[2]) + 0.0) * 1.0\n",
            "    return var4 + var5 + math.tanh(0.000000014257154212318266 * (443.0 * input[0] + 20.34 * input[1] + 63.08 * input[2]) + 0.0) * 1.0 + math.tanh(0.000000014257154212318266 * (438.0 * input[0] + 20.13 * input[1] + 63.92 * input[2]) + 0.0) * 1.0 + math.tanh(0.000000014257154212318266 * (447.0 * input[0] + 19.89 * input[1] + 64.42 * input[2]) + 0.0) * 1.0 + math.tanh(0.000000014257154212318266 * (433.0 * input[0] + 19.92 * input[1] + 64.07 * input[2]) + 0.0) * 1.0 + math.tanh(0.000000014257154212318266 * (437.0 * input[0] + 19.99 * input[1] + 64.13 * input[2]) + 0.0) * 1.0 + math.tanh(0.000000014257154212318266 * (439.0 * input[0] + 20.2 * input[1] + 63.73 * input[2]) + 0.0) * 1.0 + math.tanh(0.000000014257154212318266 * (444.0 * input[0] + 20.64 * input[1] + 62.51 * input[2]) + 0.0) * 1.0 + math.tanh(0.000000014257154212318266 * (449.0 * input[0] + 21.19 * input[1] + 60.88 * input[2]) + 0.0) * 1.0 + math.tanh(0.000000014257154212318266 * (518.0 * input[0] + 21.51 * input[1] + 59.73 * input[2]) + 0.0) * 1.0 + math.tanh(0.000000014257154212318266 * (515.0 * input[0] + 21.78 * input[1] + 58.84 * input[2]) + 0.0) * 1.0 + math.tanh(0.000000014257154212318266 * (518.0 * input[0] + 22.03 * input[1] + 58.12 * input[2]) + 0.0) * 1.0 + math.tanh(0.000000014257154212318266 * (523.0 * input[0] + 22.23 * input[1] + 57.6 * input[2]) + 0.0) * 1.0 + math.tanh(0.000000014257154212318266 * (528.0 * input[0] + 22.43 * input[1] + 57.04 * input[2]) + 0.0) * 1.0 + math.tanh(0.000000014257154212318266 * (534.0 * input[0] + 22.62 * input[1] + 56.45 * input[2]) + 0.0) * 1.0 + math.tanh(0.000000014257154212318266 * (541.0 * input[0] + 22.82 * input[1] + 56.06 * input[2]) + 0.0) * 1.0 + math.tanh(0.000000014257154212318266 * (543.0 * input[0] + 22.93 * input[1] + 55.64 * input[2]) + 0.0) * 1.0 + math.tanh(0.000000014257154212318266 * (543.0 * input[0] + 23.06 * input[1] + 55.34 * input[2]) + 0.0) * 1.0 + math.tanh(0.000000014257154212318266 * (544.0 * input[0] + 23.17 * input[1] + 55.04 * input[2]) + 0.0) * 1.0 + math.tanh(0.000000014257154212318266 * (545.0 * input[0] + 23.27 * input[1] + 54.85 * input[2]) + 0.0) * 1.0 + math.tanh(0.000000014257154212318266 * (545.0 * input[0] + 23.34 * input[1] + 54.66 * input[2]) + 0.0) * 1.0 + math.tanh(0.000000014257154212318266 * (545.0 * input[0] + 23.38 * input[1] + 54.45 * input[2]) + 0.0) * 1.0 + math.tanh(0.000000014257154212318266 * (547.0 * input[0] + 23.45 * input[1] + 54.32 * input[2]) + 0.0) * 1.0 + math.tanh(0.000000014257154212318266 * (550.0 * input[0] + 23.48 * input[1] + 54.19 * input[2]) + 0.0) * 1.0 + math.tanh(0.000000014257154212318266 * (553.0 * input[0] + 23.54 * input[1] + 54.06 * input[2]) + 0.0) * 1.0 + math.tanh(0.000000014257154212318266 * (556.0 * input[0] + 23.57 * input[1] + 53.88 * input[2]) + 0.0) * 1.0 + math.tanh(0.000000014257154212318266 * (556.0 * input[0] + 23.64 * input[1] + 53.72 * input[2]) + 0.0) * 1.0 + math.tanh(0.000000014257154212318266 * (556.0 * input[0] + 23.71 * input[1] + 53.56 * input[2]) + 0.0) * 1.0 + math.tanh(0.000000014257154212318266 * (558.0 * input[0] + 23.75 * input[1] + 53.38 * input[2]) + 0.0) * 1.0 + math.tanh(0.000000014257154212318266 * (560.0 * input[0] + 23.82 * input[1] + 53.24 * input[2]) + 0.0) * 1.0 + math.tanh(0.000000014257154212318266 * (562.0 * input[0] + 23.82 * input[1] + 53.21 * input[2]) + 0.0) * 1.0 + math.tanh(0.000000014257154212318266 * (564.0 * input[0] + 23.82 * input[1] + 53.23 * input[2]) + 0.0) * 1.0 + math.tanh(0.000000014257154212318266 * (566.0 * input[0] + 23.86 * input[1] + 53.15 * input[2]) + 0.0) * 1.0 + math.tanh(0.000000014257154212318266 * (570.0 * input[0] + 23.92 * input[1] + 53.12 * input[2]) + 0.0) * 1.0 + math.tanh(0.000000014257154212318266 * (527.0 * input[0] + 23.3 * input[1] + 58.82 * input[2]) + 0.0) * 1.0 + math.tanh(0.000000014257154212318266 * (450.0 * input[0] + 26.66 * input[1] + 49.32 * input[2]) + 0.0) * 1.0 + math.tanh(0.000000014257154212318266 * (450.0 * input[0] + 26.66 * input[1] + 49.32 * input[2]) + 0.0) * 1.0 + math.tanh(0.000000014257154212318266 * (509.0 * input[0] + 27.13 * input[1] + 48.23 * input[2]) + 0.0) * 1.0 + math.tanh(0.000000014257154212318266 * (509.0 * input[0] + 27.13 * input[1] + 48.23 * input[2]) + 0.0) * 1.0 + math.tanh(0.000000014257154212318266 * (540.0 * input[0] + 27.83 * input[1] + 47.03 * input[2]) + 0.0) * 1.0 + math.tanh(0.000000014257154212318266 * (540.0 * input[0] + 27.83 * input[1] + 47.03 * input[2]) + 0.0) * 1.0 + math.tanh(0.000000014257154212318266 * (0.0 * input[0] + 28.54 * input[1] + 45.86 * input[2]) + 0.0) * 1.0 + math.tanh(0.000000014257154212318266 * (0.0 * input[0] + 28.54 * input[1] + 45.86 * input[2]) + 0.0) * 1.0 + math.tanh(0.000000014257154212318266 * (0.0 * input[0] + 29.18 * input[1] + 44.63 * input[2]) + 0.0) * 1.0 + math.tanh(0.000000014257154212318266 * (0.0 * input[0] + 29.18 * input[1] + 44.63 * input[2]) + 0.0) * 1.0 + math.tanh(0.000000014257154212318266 * (0.0 * input[0] + 29.18 * input[1] + 44.63 * input[2]) + 0.0) * 1.0 + math.tanh(0.000000014257154212318266 * (0.0 * input[0] + 31.57 * input[1] + 38.92 * input[2]) + 0.0) * 1.0 + math.tanh(0.000000014257154212318266 * (0.0 * input[0] + 31.57 * input[1] + 38.92 * input[2]) + 0.0) * 1.0 + math.tanh(0.000000014257154212318266 * (0.0 * input[0] + 31.57 * input[1] + 38.92 * input[2]) + 0.0) * 1.0 + math.tanh(0.000000014257154212318266 * (0.0 * input[0] + 32.0 * input[1] + 38.23 * input[2]) + 0.0) * 1.0 + math.tanh(0.000000014257154212318266 * (0.0 * input[0] + 32.0 * input[1] + 38.23 * input[2]) + 0.0) * 1.0 + math.tanh(0.000000014257154212318266 * (0.0 * input[0] + 32.35 * input[1] + 37.83 * input[2]) + 0.0) * 1.0 + math.tanh(0.000000014257154212318266 * (0.0 * input[0] + 32.35 * input[1] + 37.83 * input[2]) + 0.0) * 1.0 + math.tanh(0.000000014257154212318266 * (0.0 * input[0] + 32.17 * input[1] + 37.61 * input[2]) + 0.0) * 1.0 + math.tanh(0.000000014257154212318266 * (0.0 * input[0] + 32.17 * input[1] + 37.61 * input[2]) + 0.0) * 1.0\n",
            "\n"
          ]
        }
      ],
      "source": [
        "from sklearn.svm import OneClassSVM\n",
        "import m2cgen as m2c\n",
        "\n",
        "osvm = OneClassSVM(kernel='sigmoid', nu=0.3)\n",
        "osvm.fit(X,y)\n",
        "code=m2c.export_to_python(osvm)\n",
        "with open('osvm.py', 'w') as file:\n",
        "    file.write(code)\n",
        "print(code)\n",
        "\n",
        "code2=m2c.export_to_c_sharp(osvm)\n",
        "with open('osvm.h', 'w') as file:\n",
        "    file.write(code2)"
      ]
    },
    {
      "cell_type": "markdown",
      "source": [
        "### Classification algorithms"
      ],
      "metadata": {
        "id": "5YO7fF9j_bDT"
      }
    },
    {
      "cell_type": "code",
      "source": [
        "clf = tree.DecisionTreeClassifier()\n",
        "clf.fit(X_train, y_train)\n",
        "code=m2c.export_to_python(clf)\n",
        "with open('dtc2.py', 'w') as file:\n",
        "    file.write(code)\n",
        "print(code)\n",
        "\n",
        "code2=m2c.export_to_c_sharp(clf)\n",
        "with open('dtc2.h', 'w') as file:\n",
        "    file.write(code2)"
      ],
      "metadata": {
        "colab": {
          "base_uri": "https://localhost:8080/"
        },
        "id": "j0rRAZqKEEK-",
        "outputId": "aec6d912-caf2-4d73-cf03-5ef9a8fe1d82"
      },
      "execution_count": 157,
      "outputs": [
        {
          "output_type": "stream",
          "name": "stdout",
          "text": [
            "def score(input):\n",
            "    if input[2] <= 53.05961990356445:\n",
            "        if input[0] <= 687.5:\n",
            "            if input[1] <= 25.996261596679688:\n",
            "                var0 = [1.0, 0.0, 0.0, 0.0]\n",
            "            else:\n",
            "                var0 = [0.0, 0.0, 0.0, 1.0]\n",
            "        else:\n",
            "            var0 = [0.0, 0.0, 0.0, 1.0]\n",
            "    else:\n",
            "        if input[0] <= 3821.0:\n",
            "            var0 = [0.0, 0.0, 1.0, 0.0]\n",
            "        else:\n",
            "            var0 = [0.0, 1.0, 0.0, 0.0]\n",
            "    return var0\n",
            "\n"
          ]
        }
      ]
    },
    {
      "cell_type": "markdown",
      "source": [
        "### Deep Learning"
      ],
      "metadata": {
        "id": "O8rcGwRx_wQc"
      }
    },
    {
      "cell_type": "code",
      "source": [
        "for layerNum, layer in enumerate(model.layers):\n",
        "    weights = layer.get_weights()[0]\n",
        "    biases = layer.get_weights()[1]\n",
        "    \n",
        "    for toNeuronNum, bias in enumerate(biases):\n",
        "        print(f'{layerNum}B -> L{layerNum+1}N{toNeuronNum}: {bias}')\n",
        "    \n",
        "    for fromNeuronNum, wgt in enumerate(weights):\n",
        "        for toNeuronNum, wgt2 in enumerate(wgt):\n",
        "            print(f'L{layerNum}N{fromNeuronNum} \\\n",
        "                  -> L{layerNum+1}N{toNeuronNum} = {wgt2}')"
      ],
      "metadata": {
        "colab": {
          "base_uri": "https://localhost:8080/"
        },
        "id": "NT7ijXQIF4Te",
        "outputId": "5b72d8f7-68e1-400e-b7ff-9a202fce94e1"
      },
      "execution_count": 174,
      "outputs": [
        {
          "output_type": "stream",
          "name": "stdout",
          "text": [
            "0B -> L1N0: -0.047450002282857895\n",
            "0B -> L1N1: 0.33749455213546753\n",
            "0B -> L1N2: 0.0\n",
            "0B -> L1N3: 0.0\n",
            "0B -> L1N4: 0.20100131630897522\n",
            "0B -> L1N5: -0.05993330106139183\n",
            "L0N0                   -> L1N0 = 0.9717501997947693\n",
            "L0N0                   -> L1N1 = 0.3264310956001282\n",
            "L0N0                   -> L1N2 = -0.5963156819343567\n",
            "L0N0                   -> L1N3 = -0.5705291628837585\n",
            "L0N0                   -> L1N4 = -0.41238903999328613\n",
            "L0N0                   -> L1N5 = 1.268875002861023\n",
            "L0N1                   -> L1N0 = 0.8214201927185059\n",
            "L0N1                   -> L1N1 = 0.6122007369995117\n",
            "L0N1                   -> L1N2 = -0.7753572463989258\n",
            "L0N1                   -> L1N3 = -0.7957298159599304\n",
            "L0N1                   -> L1N4 = -0.7507667541503906\n",
            "L0N1                   -> L1N5 = 0.409166157245636\n",
            "L0N2                   -> L1N0 = 0.928337574005127\n",
            "L0N2                   -> L1N1 = -0.5886215567588806\n",
            "L0N2                   -> L1N2 = -0.6889365315437317\n",
            "L0N2                   -> L1N3 = -0.3209829330444336\n",
            "L0N2                   -> L1N4 = 0.8371561169624329\n",
            "L0N2                   -> L1N5 = 0.4690491557121277\n",
            "1B -> L2N0: 0.21337643265724182\n",
            "1B -> L2N1: 0.12163177877664566\n",
            "1B -> L2N2: 0.0\n",
            "1B -> L2N3: 0.1453186273574829\n",
            "1B -> L2N4: 0.3377922773361206\n",
            "1B -> L2N5: -0.19920669496059418\n",
            "1B -> L2N6: 0.23799385130405426\n",
            "1B -> L2N7: -0.07241713255643845\n",
            "1B -> L2N8: -0.007992308586835861\n",
            "1B -> L2N9: 0.058572832494974136\n",
            "1B -> L2N10: 0.23021793365478516\n",
            "1B -> L2N11: 0.04332749918103218\n",
            "1B -> L2N12: -0.16092100739479065\n",
            "1B -> L2N13: 0.0\n",
            "1B -> L2N14: -0.010807149112224579\n",
            "1B -> L2N15: 0.18251800537109375\n",
            "1B -> L2N16: 0.26774370670318604\n",
            "1B -> L2N17: 0.0\n",
            "1B -> L2N18: -0.11138694733381271\n",
            "1B -> L2N19: -0.021568091586232185\n",
            "1B -> L2N20: 0.0\n",
            "1B -> L2N21: -0.08575889468193054\n",
            "1B -> L2N22: 0.0\n",
            "1B -> L2N23: 0.21034830808639526\n",
            "L1N0                   -> L2N0 = 0.03869648650288582\n",
            "L1N0                   -> L2N1 = 0.574540376663208\n",
            "L1N0                   -> L2N2 = -0.3973970413208008\n",
            "L1N0                   -> L2N3 = 0.24712446331977844\n",
            "L1N0                   -> L2N4 = -0.25826287269592285\n",
            "L1N0                   -> L2N5 = 0.6055917143821716\n",
            "L1N0                   -> L2N6 = -0.030761776491999626\n",
            "L1N0                   -> L2N7 = 0.5539452433586121\n",
            "L1N0                   -> L2N8 = 0.7046372294425964\n",
            "L1N0                   -> L2N9 = 0.21969571709632874\n",
            "L1N0                   -> L2N10 = -0.07909965515136719\n",
            "L1N0                   -> L2N11 = 0.6325877904891968\n",
            "L1N0                   -> L2N12 = 0.555035412311554\n",
            "L1N0                   -> L2N13 = -0.16688334941864014\n",
            "L1N0                   -> L2N14 = -0.02870974689722061\n",
            "L1N0                   -> L2N15 = 0.3189462423324585\n",
            "L1N0                   -> L2N16 = 0.18369734287261963\n",
            "L1N0                   -> L2N17 = -0.348852276802063\n",
            "L1N0                   -> L2N18 = -0.21831302344799042\n",
            "L1N0                   -> L2N19 = -0.06903938204050064\n",
            "L1N0                   -> L2N20 = -0.4158194363117218\n",
            "L1N0                   -> L2N21 = -0.025921430438756943\n",
            "L1N0                   -> L2N22 = -0.2922345995903015\n",
            "L1N0                   -> L2N23 = 0.08044683933258057\n",
            "L1N1                   -> L2N0 = -0.24852979183197021\n",
            "L1N1                   -> L2N1 = -0.41843169927597046\n",
            "L1N1                   -> L2N2 = -0.19804346561431885\n",
            "L1N1                   -> L2N3 = 0.16376185417175293\n",
            "L1N1                   -> L2N4 = 1.1682695150375366\n",
            "L1N1                   -> L2N5 = -0.9459739327430725\n",
            "L1N1                   -> L2N6 = 0.5415014028549194\n",
            "L1N1                   -> L2N7 = 0.27977702021598816\n",
            "L1N1                   -> L2N8 = 0.23852311074733734\n",
            "L1N1                   -> L2N9 = 0.9989713430404663\n",
            "L1N1                   -> L2N10 = 0.299773633480072\n",
            "L1N1                   -> L2N11 = -0.16821150481700897\n",
            "L1N1                   -> L2N12 = 0.0011373229790478945\n",
            "L1N1                   -> L2N13 = -0.0469338595867157\n",
            "L1N1                   -> L2N14 = -0.4701700508594513\n",
            "L1N1                   -> L2N15 = -0.043972890824079514\n",
            "L1N1                   -> L2N16 = 1.1410008668899536\n",
            "L1N1                   -> L2N17 = 0.07870078086853027\n",
            "L1N1                   -> L2N18 = 0.016167698428034782\n",
            "L1N1                   -> L2N19 = -0.5946159958839417\n",
            "L1N1                   -> L2N20 = 0.012841373682022095\n",
            "L1N1                   -> L2N21 = 0.20831161737442017\n",
            "L1N1                   -> L2N22 = 0.008497834205627441\n",
            "L1N1                   -> L2N23 = -0.25607264041900635\n",
            "L1N2                   -> L2N0 = 0.11988168954849243\n",
            "L1N2                   -> L2N1 = 0.2674063444137573\n",
            "L1N2                   -> L2N2 = 0.18129336833953857\n",
            "L1N2                   -> L2N3 = -0.3467406928539276\n",
            "L1N2                   -> L2N4 = 0.32822275161743164\n",
            "L1N2                   -> L2N5 = -0.10334587097167969\n",
            "L1N2                   -> L2N6 = -0.1920466125011444\n",
            "L1N2                   -> L2N7 = 0.17258793115615845\n",
            "L1N2                   -> L2N8 = -0.3677765727043152\n",
            "L1N2                   -> L2N9 = 0.04527214169502258\n",
            "L1N2                   -> L2N10 = 0.4058561325073242\n",
            "L1N2                   -> L2N11 = -0.2498435527086258\n",
            "L1N2                   -> L2N12 = -0.4217971861362457\n",
            "L1N2                   -> L2N13 = 0.1800517439842224\n",
            "L1N2                   -> L2N14 = -0.016289591789245605\n",
            "L1N2                   -> L2N15 = -0.36958491802215576\n",
            "L1N2                   -> L2N16 = 0.36773115396499634\n",
            "L1N2                   -> L2N17 = -0.44122666120529175\n",
            "L1N2                   -> L2N18 = 0.1731768250465393\n",
            "L1N2                   -> L2N19 = -0.2049502581357956\n",
            "L1N2                   -> L2N20 = 0.2133573293685913\n",
            "L1N2                   -> L2N21 = 0.2310490608215332\n",
            "L1N2                   -> L2N22 = -0.1291671097278595\n",
            "L1N2                   -> L2N23 = 0.03973972797393799\n",
            "L1N3                   -> L2N0 = 0.13921678066253662\n",
            "L1N3                   -> L2N1 = 0.1631724238395691\n",
            "L1N3                   -> L2N2 = -0.08233091235160828\n",
            "L1N3                   -> L2N3 = 0.3768004775047302\n",
            "L1N3                   -> L2N4 = -0.24093106389045715\n",
            "L1N3                   -> L2N5 = 0.009897589683532715\n",
            "L1N3                   -> L2N6 = 0.20321857929229736\n",
            "L1N3                   -> L2N7 = -0.07372775673866272\n",
            "L1N3                   -> L2N8 = -0.15341481566429138\n",
            "L1N3                   -> L2N9 = -0.07639205455780029\n",
            "L1N3                   -> L2N10 = 0.20094740390777588\n",
            "L1N3                   -> L2N11 = -0.40883395075798035\n",
            "L1N3                   -> L2N12 = 0.2282179594039917\n",
            "L1N3                   -> L2N13 = 0.2498401403427124\n",
            "L1N3                   -> L2N14 = 0.13376230001449585\n",
            "L1N3                   -> L2N15 = -0.1324964463710785\n",
            "L1N3                   -> L2N16 = 0.17902427911758423\n",
            "L1N3                   -> L2N17 = -0.21844907104969025\n",
            "L1N3                   -> L2N18 = -0.04472249746322632\n",
            "L1N3                   -> L2N19 = -0.2462165206670761\n",
            "L1N3                   -> L2N20 = -0.08761820197105408\n",
            "L1N3                   -> L2N21 = -0.1207575798034668\n",
            "L1N3                   -> L2N22 = -0.10301661491394043\n",
            "L1N3                   -> L2N23 = -0.3463726341724396\n",
            "L1N4                   -> L2N0 = 0.7819085717201233\n",
            "L1N4                   -> L2N1 = 0.9755082130432129\n",
            "L1N4                   -> L2N2 = -0.3694451153278351\n",
            "L1N4                   -> L2N3 = 0.39470452070236206\n",
            "L1N4                   -> L2N4 = -0.4556289613246918\n",
            "L1N4                   -> L2N5 = 0.5722695589065552\n",
            "L1N4                   -> L2N6 = -0.47922584414482117\n",
            "L1N4                   -> L2N7 = -0.5137050151824951\n",
            "L1N4                   -> L2N8 = 0.547886312007904\n",
            "L1N4                   -> L2N9 = -0.40488487482070923\n",
            "L1N4                   -> L2N10 = 0.2229757457971573\n",
            "L1N4                   -> L2N11 = -0.08723518997430801\n",
            "L1N4                   -> L2N12 = -0.17217053472995758\n",
            "L1N4                   -> L2N13 = 0.13977378606796265\n",
            "L1N4                   -> L2N14 = 0.1951524317264557\n",
            "L1N4                   -> L2N15 = 0.42750728130340576\n",
            "L1N4                   -> L2N16 = -0.3950584828853607\n",
            "L1N4                   -> L2N17 = -0.1373404860496521\n",
            "L1N4                   -> L2N18 = -0.3560314476490021\n",
            "L1N4                   -> L2N19 = 0.36675360798835754\n",
            "L1N4                   -> L2N20 = -0.17981961369514465\n",
            "L1N4                   -> L2N21 = -0.17490804195404053\n",
            "L1N4                   -> L2N22 = -0.08604580163955688\n",
            "L1N4                   -> L2N23 = 0.6717822551727295\n",
            "L1N5                   -> L2N0 = -0.44779232144355774\n",
            "L1N5                   -> L2N1 = 0.44518575072288513\n",
            "L1N5                   -> L2N2 = -0.4039995074272156\n",
            "L1N5                   -> L2N3 = 0.578048825263977\n",
            "L1N5                   -> L2N4 = 0.3678342401981354\n",
            "L1N5                   -> L2N5 = 0.4799332916736603\n",
            "L1N5                   -> L2N6 = 0.4130903482437134\n",
            "L1N5                   -> L2N7 = 0.5778703093528748\n",
            "L1N5                   -> L2N8 = 0.08432331681251526\n",
            "L1N5                   -> L2N9 = 0.24047264456748962\n",
            "L1N5                   -> L2N10 = -0.3798373341560364\n",
            "L1N5                   -> L2N11 = 0.7301153540611267\n",
            "L1N5                   -> L2N12 = 0.7376967072486877\n",
            "L1N5                   -> L2N13 = -0.36778509616851807\n",
            "L1N5                   -> L2N14 = 0.12544982135295868\n",
            "L1N5                   -> L2N15 = 0.25907236337661743\n",
            "L1N5                   -> L2N16 = -0.4233459234237671\n",
            "L1N5                   -> L2N17 = 0.20369911193847656\n",
            "L1N5                   -> L2N18 = 0.2846096456050873\n",
            "L1N5                   -> L2N19 = 0.24499276280403137\n",
            "L1N5                   -> L2N20 = -0.280769407749176\n",
            "L1N5                   -> L2N21 = -0.08205647021532059\n",
            "L1N5                   -> L2N22 = 0.09883522987365723\n",
            "L1N5                   -> L2N23 = -0.020064037293195724\n",
            "2B -> L3N0: 0.2327723652124405\n",
            "2B -> L3N1: -0.04391404613852501\n",
            "2B -> L3N2: -0.0299204234033823\n",
            "2B -> L3N3: -0.09437201917171478\n",
            "2B -> L3N4: -0.033840686082839966\n",
            "2B -> L3N5: 0.0\n",
            "2B -> L3N6: 0.23236721754074097\n",
            "2B -> L3N7: 0.008562838658690453\n",
            "L2N0                   -> L3N0 = -0.3143447935581207\n",
            "L2N0                   -> L3N1 = -0.37010467052459717\n",
            "L2N0                   -> L3N2 = 0.36112627387046814\n",
            "L2N0                   -> L3N3 = -0.6030384302139282\n",
            "L2N0                   -> L3N4 = -0.3294564187526703\n",
            "L2N0                   -> L3N5 = 0.06505879759788513\n",
            "L2N0                   -> L3N6 = 0.7490351796150208\n",
            "L2N0                   -> L3N7 = -0.7572997212409973\n",
            "L2N1                   -> L3N0 = -0.17418266832828522\n",
            "L2N1                   -> L3N1 = -0.08717498183250427\n",
            "L2N1                   -> L3N2 = 0.38548344373703003\n",
            "L2N1                   -> L3N3 = 0.2524864375591278\n",
            "L2N1                   -> L3N4 = 0.0135779595002532\n",
            "L2N1                   -> L3N5 = -0.3286368250846863\n",
            "L2N1                   -> L3N6 = 0.3311036229133606\n",
            "L2N1                   -> L3N7 = -0.10048916190862656\n",
            "L2N2                   -> L3N0 = 0.07618448138237\n",
            "L2N2                   -> L3N1 = -0.25584644079208374\n",
            "L2N2                   -> L3N2 = 0.05541354417800903\n",
            "L2N2                   -> L3N3 = -0.03676995635032654\n",
            "L2N2                   -> L3N4 = -0.3228774964809418\n",
            "L2N2                   -> L3N5 = 0.3524151146411896\n",
            "L2N2                   -> L3N6 = -0.03360447287559509\n",
            "L2N2                   -> L3N7 = 0.2429371178150177\n",
            "L2N3                   -> L3N0 = 0.2457415610551834\n",
            "L2N3                   -> L3N1 = 0.37570229172706604\n",
            "L2N3                   -> L3N2 = 0.3152863085269928\n",
            "L2N3                   -> L3N3 = 0.3400750756263733\n",
            "L2N3                   -> L3N4 = 0.21369482576847076\n",
            "L2N3                   -> L3N5 = -0.38648754358291626\n",
            "L2N3                   -> L3N6 = 0.49217650294303894\n",
            "L2N3                   -> L3N7 = 0.42295902967453003\n",
            "L2N4                   -> L3N0 = 1.133142352104187\n",
            "L2N4                   -> L3N1 = 0.1474524289369583\n",
            "L2N4                   -> L3N2 = -0.9963641166687012\n",
            "L2N4                   -> L3N3 = -0.614371120929718\n",
            "L2N4                   -> L3N4 = 0.33502575755119324\n",
            "L2N4                   -> L3N5 = -0.1259131133556366\n",
            "L2N4                   -> L3N6 = 0.11781813949346542\n",
            "L2N4                   -> L3N7 = 0.3792494535446167\n",
            "L2N5                   -> L3N0 = -0.5980746150016785\n",
            "L2N5                   -> L3N1 = 0.19809313118457794\n",
            "L2N5                   -> L3N2 = 0.6008660197257996\n",
            "L2N5                   -> L3N3 = 0.27379855513572693\n",
            "L2N5                   -> L3N4 = 0.1916324943304062\n",
            "L2N5                   -> L3N5 = 0.2331056296825409\n",
            "L2N5                   -> L3N6 = -0.1313275396823883\n",
            "L2N5                   -> L3N7 = -0.11416535824537277\n",
            "L2N6                   -> L3N0 = 0.668260931968689\n",
            "L2N6                   -> L3N1 = -0.23018723726272583\n",
            "L2N6                   -> L3N2 = -0.9207351803779602\n",
            "L2N6                   -> L3N3 = -0.020442837849259377\n",
            "L2N6                   -> L3N4 = 0.6542852520942688\n",
            "L2N6                   -> L3N5 = 0.17810222506523132\n",
            "L2N6                   -> L3N6 = -0.11853878200054169\n",
            "L2N6                   -> L3N7 = 0.6715924739837646\n",
            "L2N7                   -> L3N0 = 0.19421716034412384\n",
            "L2N7                   -> L3N1 = -0.33647602796554565\n",
            "L2N7                   -> L3N2 = 0.374165803194046\n",
            "L2N7                   -> L3N3 = 0.42887330055236816\n",
            "L2N7                   -> L3N4 = 0.7724464535713196\n",
            "L2N7                   -> L3N5 = -0.25573399662971497\n",
            "L2N7                   -> L3N6 = -0.9594754576683044\n",
            "L2N7                   -> L3N7 = 0.5682687759399414\n",
            "L2N8                   -> L3N0 = 0.15145961940288544\n",
            "L2N8                   -> L3N1 = -0.0505683459341526\n",
            "L2N8                   -> L3N2 = 0.5542199015617371\n",
            "L2N8                   -> L3N3 = -0.22145238518714905\n",
            "L2N8                   -> L3N4 = 0.0690307766199112\n",
            "L2N8                   -> L3N5 = -0.04574921727180481\n",
            "L2N8                   -> L3N6 = -0.020040739327669144\n",
            "L2N8                   -> L3N7 = 0.21560212969779968\n",
            "L2N9                   -> L3N0 = 0.6053184270858765\n",
            "L2N9                   -> L3N1 = -0.40339264273643494\n",
            "L2N9                   -> L3N2 = -0.41981932520866394\n",
            "L2N9                   -> L3N3 = -0.161738783121109\n",
            "L2N9                   -> L3N4 = 0.7424044013023376\n",
            "L2N9                   -> L3N5 = -0.41122156381607056\n",
            "L2N9                   -> L3N6 = -0.4828583598136902\n",
            "L2N9                   -> L3N7 = 0.1757507026195526\n",
            "L2N10                   -> L3N0 = 0.1913384646177292\n",
            "L2N10                   -> L3N1 = 0.3137371242046356\n",
            "L2N10                   -> L3N2 = -0.30557867884635925\n",
            "L2N10                   -> L3N3 = -0.5105829834938049\n",
            "L2N10                   -> L3N4 = -0.36899736523628235\n",
            "L2N10                   -> L3N5 = -0.3245397210121155\n",
            "L2N10                   -> L3N6 = 0.7520208358764648\n",
            "L2N10                   -> L3N7 = -0.31548699736595154\n",
            "L2N11                   -> L3N0 = -0.3754245638847351\n",
            "L2N11                   -> L3N1 = 0.05157383903861046\n",
            "L2N11                   -> L3N2 = 0.27489206194877625\n",
            "L2N11                   -> L3N3 = 0.35046330094337463\n",
            "L2N11                   -> L3N4 = 0.195819690823555\n",
            "L2N11                   -> L3N5 = -0.19776023924350739\n",
            "L2N11                   -> L3N6 = 0.23189909756183624\n",
            "L2N11                   -> L3N7 = 0.5558876991271973\n",
            "L2N12                   -> L3N0 = -0.17173932492733002\n",
            "L2N12                   -> L3N1 = 0.04758315533399582\n",
            "L2N12                   -> L3N2 = 0.7251858115196228\n",
            "L2N12                   -> L3N3 = 0.32399865984916687\n",
            "L2N12                   -> L3N4 = 0.553427517414093\n",
            "L2N12                   -> L3N5 = -0.1691589057445526\n",
            "L2N12                   -> L3N6 = -0.5754840970039368\n",
            "L2N12                   -> L3N7 = 0.45406103134155273\n",
            "L2N13                   -> L3N0 = 0.29451408982276917\n",
            "L2N13                   -> L3N1 = 0.3775887191295624\n",
            "L2N13                   -> L3N2 = -0.34233200550079346\n",
            "L2N13                   -> L3N3 = 0.0491371750831604\n",
            "L2N13                   -> L3N4 = 0.38289496302604675\n",
            "L2N13                   -> L3N5 = -0.11884737014770508\n",
            "L2N13                   -> L3N6 = -0.24753347039222717\n",
            "L2N13                   -> L3N7 = 0.2716613709926605\n",
            "L2N14                   -> L3N0 = -0.47129392623901367\n",
            "L2N14                   -> L3N1 = 0.32757818698883057\n",
            "L2N14                   -> L3N2 = 0.57208651304245\n",
            "L2N14                   -> L3N3 = -0.22886472940444946\n",
            "L2N14                   -> L3N4 = -0.46835821866989136\n",
            "L2N14                   -> L3N5 = -0.28272294998168945\n",
            "L2N14                   -> L3N6 = -0.3138943612575531\n",
            "L2N14                   -> L3N7 = -0.151826411485672\n",
            "L2N15                   -> L3N0 = 0.12317746877670288\n",
            "L2N15                   -> L3N1 = 0.0812181755900383\n",
            "L2N15                   -> L3N2 = -0.011514794081449509\n",
            "L2N15                   -> L3N3 = 0.35840076208114624\n",
            "L2N15                   -> L3N4 = -0.2732599079608917\n",
            "L2N15                   -> L3N5 = -0.09621775150299072\n",
            "L2N15                   -> L3N6 = 0.5067889094352722\n",
            "L2N15                   -> L3N7 = 0.16865846514701843\n",
            "L2N16                   -> L3N0 = 1.0894408226013184\n",
            "L2N16                   -> L3N1 = 0.033083658665418625\n",
            "L2N16                   -> L3N2 = -0.8914024233818054\n",
            "L2N16                   -> L3N3 = -0.29847654700279236\n",
            "L2N16                   -> L3N4 = 0.7360389232635498\n",
            "L2N16                   -> L3N5 = 0.16807767748832703\n",
            "L2N16                   -> L3N6 = 0.5048649907112122\n",
            "L2N16                   -> L3N7 = 0.2515609860420227\n",
            "L2N17                   -> L3N0 = -0.40748661756515503\n",
            "L2N17                   -> L3N1 = 0.08167728781700134\n",
            "L2N17                   -> L3N2 = 0.3763396441936493\n",
            "L2N17                   -> L3N3 = 0.2808857262134552\n",
            "L2N17                   -> L3N4 = 0.3555051386356354\n",
            "L2N17                   -> L3N5 = -0.32240259647369385\n",
            "L2N17                   -> L3N6 = -0.4201730489730835\n",
            "L2N17                   -> L3N7 = -0.3292893171310425\n",
            "L2N18                   -> L3N0 = -0.23963916301727295\n",
            "L2N18                   -> L3N1 = 0.09167182445526123\n",
            "L2N18                   -> L3N2 = 0.28168123960494995\n",
            "L2N18                   -> L3N3 = -0.23270298540592194\n",
            "L2N18                   -> L3N4 = -0.15822486579418182\n",
            "L2N18                   -> L3N5 = 0.015477180480957031\n",
            "L2N18                   -> L3N6 = 0.08126907795667648\n",
            "L2N18                   -> L3N7 = -0.3026135265827179\n",
            "L2N19                   -> L3N0 = -0.025706859305500984\n",
            "L2N19                   -> L3N1 = -0.49830833077430725\n",
            "L2N19                   -> L3N2 = 0.657584011554718\n",
            "L2N19                   -> L3N3 = -0.30621007084846497\n",
            "L2N19                   -> L3N4 = -0.3701814115047455\n",
            "L2N19                   -> L3N5 = -0.12162315845489502\n",
            "L2N19                   -> L3N6 = -0.2868271470069885\n",
            "L2N19                   -> L3N7 = -0.2014496922492981\n",
            "L2N20                   -> L3N0 = 0.3326316177845001\n",
            "L2N20                   -> L3N1 = 0.3093673884868622\n",
            "L2N20                   -> L3N2 = 0.3579231798648834\n",
            "L2N20                   -> L3N3 = 0.2375694215297699\n",
            "L2N20                   -> L3N4 = -0.24709491431713104\n",
            "L2N20                   -> L3N5 = -0.27592089772224426\n",
            "L2N20                   -> L3N6 = -0.14077973365783691\n",
            "L2N20                   -> L3N7 = 0.4161268174648285\n",
            "L2N21                   -> L3N0 = 0.0309064332395792\n",
            "L2N21                   -> L3N1 = -0.3161185681819916\n",
            "L2N21                   -> L3N2 = -0.1260373294353485\n",
            "L2N21                   -> L3N3 = -0.42256420850753784\n",
            "L2N21                   -> L3N4 = 0.2643161714076996\n",
            "L2N21                   -> L3N5 = -0.37767285108566284\n",
            "L2N21                   -> L3N6 = -0.0189602542668581\n",
            "L2N21                   -> L3N7 = -0.33820831775665283\n",
            "L2N22                   -> L3N0 = 0.1912812888622284\n",
            "L2N22                   -> L3N1 = 0.029738306999206543\n",
            "L2N22                   -> L3N2 = 0.292637437582016\n",
            "L2N22                   -> L3N3 = -0.1530809998512268\n",
            "L2N22                   -> L3N4 = -0.35363897681236267\n",
            "L2N22                   -> L3N5 = -0.28982099890708923\n",
            "L2N22                   -> L3N6 = -0.388796865940094\n",
            "L2N22                   -> L3N7 = -0.25977784395217896\n",
            "L2N23                   -> L3N0 = 0.42574748396873474\n",
            "L2N23                   -> L3N1 = -0.06791776418685913\n",
            "L2N23                   -> L3N2 = 0.6430805921554565\n",
            "L2N23                   -> L3N3 = -0.2105262130498886\n",
            "L2N23                   -> L3N4 = 0.04104345291852951\n",
            "L2N23                   -> L3N5 = -0.23761051893234253\n",
            "L2N23                   -> L3N6 = 0.5916107892990112\n",
            "L2N23                   -> L3N7 = -0.5932149291038513\n",
            "3B -> L4N0: 0.07863558083772659\n",
            "3B -> L4N1: -0.34334519505500793\n",
            "3B -> L4N2: 0.236761212348938\n",
            "3B -> L4N3: -0.03620969504117966\n",
            "L3N0                   -> L4N0 = 0.39863091707229614\n",
            "L3N0                   -> L4N1 = -0.7588661909103394\n",
            "L3N0                   -> L4N2 = -1.3253285884857178\n",
            "L3N0                   -> L4N3 = 0.19616158306598663\n",
            "L3N1                   -> L4N0 = -0.11003222316503525\n",
            "L3N1                   -> L4N1 = -0.2048158347606659\n",
            "L3N1                   -> L4N2 = -0.6598333716392517\n",
            "L3N1                   -> L4N3 = 0.05423412099480629\n",
            "L3N2                   -> L4N0 = -0.8747705817222595\n",
            "L3N2                   -> L4N1 = 0.45622923970222473\n",
            "L3N2                   -> L4N2 = 0.8769325017929077\n",
            "L3N2                   -> L4N3 = -0.38621917366981506\n",
            "L3N3                   -> L4N0 = -0.7718721628189087\n",
            "L3N3                   -> L4N1 = 0.8354060053825378\n",
            "L3N3                   -> L4N2 = -0.5930256247520447\n",
            "L3N3                   -> L4N3 = -0.37788888812065125\n",
            "L3N4                   -> L4N0 = -0.035477686673402786\n",
            "L3N4                   -> L4N1 = 0.5095106959342957\n",
            "L3N4                   -> L4N2 = -0.8827407956123352\n",
            "L3N4                   -> L4N3 = 0.6556791663169861\n",
            "L3N5                   -> L4N0 = 0.03230553865432739\n",
            "L3N5                   -> L4N1 = 0.23381906747817993\n",
            "L3N5                   -> L4N2 = -0.6655207872390747\n",
            "L3N5                   -> L4N3 = -0.3249827027320862\n",
            "L3N6                   -> L4N0 = 0.6782220005989075\n",
            "L3N6                   -> L4N1 = -0.927391529083252\n",
            "L3N6                   -> L4N2 = 0.03270706906914711\n",
            "L3N6                   -> L4N3 = -0.8951913118362427\n",
            "L3N7                   -> L4N0 = -0.9645793437957764\n",
            "L3N7                   -> L4N1 = 0.2928454577922821\n",
            "L3N7                   -> L4N2 = -0.8389019966125488\n",
            "L3N7                   -> L4N3 = 0.9641926884651184\n"
          ]
        }
      ]
    }
  ]
}